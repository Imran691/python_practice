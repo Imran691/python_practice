{
 "cells": [
  {
   "cell_type": "markdown",
   "metadata": {},
   "source": [
    "# Students' package\n",
    "*https://peps.python.org/pep-0484/#type-aliases"
   ]
  },
  {
   "cell_type": "markdown",
   "metadata": {},
   "source": [
    "# if statements\n",
    "* These are logical control blocks\n",
    "* if-else \n",
    "* if-else-elif\n",
    "```\n",
    "if logic:\n",
    "    True_block\n",
    "else:\n",
    "    False_block\n",
    "```\n",
    "\n",
    "* comprehensive if-else syntax\n",
    "\n",
    "```True_block if logic else False_block```"
   ]
  },
  {
   "cell_type": "code",
   "execution_count": 1,
   "metadata": {},
   "outputs": [
    {
     "name": "stdout",
     "output_type": "stream",
     "text": [
      "Hello\n"
     ]
    }
   ],
   "source": [
    "if True:\n",
    "    print(\"Hello\")\n",
    "else: \n",
    "    print(\"World\")"
   ]
  },
  {
   "cell_type": "code",
   "execution_count": null,
   "metadata": {},
   "outputs": [],
   "source": [
    "# comprehensive syntax\n",
    "\n",
    "#   True Block      Logic       False Block\n",
    "print(\"Hello\") if True else print(\"World\")"
   ]
  },
  {
   "cell_type": "markdown",
   "metadata": {},
   "source": [
    "# Grading Rule"
   ]
  },
  {
   "cell_type": "code",
   "execution_count": null,
   "metadata": {},
   "outputs": [],
   "source": [
    "from typing import Union      # to define Union type\n",
    " \n",
    "# input is always a string type, so we applied int() function to convert the entered input percentage into integer type\n",
    "percentage : Union[int, float] = int(input(\"Enter your percentage:\")) \n",
    "# percentage : int | float = int(input(\"Enter your percentage:\")) # alternate way to write Union type\n",
    "grade : Union[str, None] = None         # None is a data type in python\n",
    "\n",
    "\n",
    "if (percentage >= 80) and (percentage <= 100): # for more than one conditions, wrap conditions in () for readability\n",
    "    grade = \"A+\"\n",
    "elif (percentage >= 70) and (percentage <= 79):\n",
    "    grade = \"A\"\n",
    "elif (percentage >= 60) and (percentage <= 69):\n",
    "    grade = \"B\"\n",
    "elif (percentage >= 50) and (percentage <= 59):\n",
    "    grade = \"C\"\n",
    "elif (percentage >= 40) and (percentage <= 49):\n",
    "    grade = \"D\"\n",
    "elif (percentage >= 33) and (percentage <= 39):\n",
    "    grade = \"E\"\n",
    "elif (percentage < 33) and (percentage >= 0):\n",
    "    grade = \"F\"\n",
    "\n",
    "print(f\"Your percentage is: {percentage} and grade is:\\t {grade}\")\n"
   ]
  },
  {
   "cell_type": "code",
   "execution_count": null,
   "metadata": {},
   "outputs": [],
   "source": [
    "from typing import Union\n",
    "\n",
    "PerType = Union[int, float]\n",
    "\n",
    "percentages : list[PerType] = [98, 75, 39, 65, 60, 55, 45]\n",
    "grades : list[str] = []\n",
    "\n",
    "for percentage in percentages:\n",
    "    grade : str = \"\"\n",
    "    if (percentage >= 80) and (percentage <= 100):\n",
    "        grade = \"A+\"\n",
    "    elif (percentage >= 70) and (percentage <= 79):\n",
    "        grade = \"A\"\n",
    "    elif (percentage >= 60) and (percentage <= 69):\n",
    "        grade = \"B\"\n",
    "    elif (percentage >= 50) and (percentage <= 59):\n",
    "        grade = \"C\"\n",
    "    elif (percentage >= 40) and (percentage <= 49):\n",
    "        grade = \"D\"\n",
    "    elif (percentage >= 33) and (percentage <= 39):\n",
    "        grade = \"E\"\n",
    "    elif (percentage < 33) and (percentage >= 0):\n",
    "        grade = \"F\"\n",
    "    grades.append(grade)\n",
    "\n",
    "print(percentages)\n",
    "print(grades)\n",
    "\n",
    "list(zip(percentages, grades))\n",
    "\n",
    "list(zip(percentages, grades, list(range(len(percentages)))))"
   ]
  },
  {
   "cell_type": "code",
   "execution_count": null,
   "metadata": {},
   "outputs": [],
   "source": [
    "cars : list[str] = [\"toyota\", \"bmw\", \"audi\", \"nissan\", \"hundai\"]\n",
    "\n",
    "for car in cars:\n",
    "    if car == \"bmw\":\n",
    "        print(car.upper())\n",
    "    else:\n",
    "        print(car.title())\n",
    "\n",
    "# comprehensive syntax\n",
    "[i.upper() if i == \"bmw\" else i.title() for i in cars]"
   ]
  },
  {
   "cell_type": "code",
   "execution_count": null,
   "metadata": {},
   "outputs": [],
   "source": [
    "# Inequality Operator\n",
    "\n",
    "cars : list[str] = [\"toyota\", \"bmw\", \"audi\", \"nissan\", \"hundai\"]\n",
    "\n",
    "for car in cars:         # in for loop, \"in\" extracts the value from the list ans assigns it to locally declared variable \n",
    "    if car != \"hundai\":\n",
    "        print(car.upper())\n",
    "    else:\n",
    "        print(car.title())"
   ]
  },
  {
   "cell_type": "code",
   "execution_count": null,
   "metadata": {},
   "outputs": [],
   "source": [
    "cars : list[str] = [\"toyota\", \"bmw\", \"audi\", \"nissan\", \"hundai\"]\n",
    "\n",
    "print(\"changan\" in cars)    # here \"in\" checks the presence of an element in the list\n",
    "print(\"bmw\" in cars)"
   ]
  },
  {
   "cell_type": "code",
   "execution_count": 11,
   "metadata": {},
   "outputs": [
    {
     "name": "stdout",
     "output_type": "stream",
     "text": [
      "Diana: You can post comments!\n"
     ]
    }
   ],
   "source": [
    "banned_users : list[str] = [\"marrie\", \"alex\", \"lana\",]\n",
    "user : str = \"diana\"\n",
    "\n",
    "# print(user not in banned_users)\n",
    "\n",
    "if user not in banned_users:\n",
    "    print(f\"{user.title()}: You can post comments if you wish.\")"
   ]
  }
 ],
 "metadata": {
  "kernelspec": {
   "display_name": "python12",
   "language": "python",
   "name": "python3"
  },
  "language_info": {
   "codemirror_mode": {
    "name": "ipython",
    "version": 3
   },
   "file_extension": ".py",
   "mimetype": "text/x-python",
   "name": "python",
   "nbconvert_exporter": "python",
   "pygments_lexer": "ipython3",
   "version": "3.12.0"
  }
 },
 "nbformat": 4,
 "nbformat_minor": 2
}
