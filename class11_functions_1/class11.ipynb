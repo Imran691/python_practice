{
 "cells": [
  {
   "cell_type": "markdown",
   "metadata": {},
   "source": [
    "## Pass by Reference Vs Pass by Value\n",
    "* In python, the way variables are passed to functions can be thought of as \"Pass by object reference\".\n",
    "* Means function receives a reference to the object, not a copy of the object.\n",
    "* However the behavior can can seem like \"pass by value\" or \"pass by reference\" depending upon weather the object is mutable or immutable."
   ]
  },
  {
   "cell_type": "markdown",
   "metadata": {},
   "source": [
    "### Pass by Value (with immutable type)"
   ]
  },
  {
   "cell_type": "code",
   "execution_count": null,
   "metadata": {},
   "outputs": [],
   "source": [
    "def modify_value(num: int):\n",
    "    print(\"Inside function (before modification):\", id(num))\n",
    "    num = 10\n",
    "    print(\"Inside function (after modification):\", id(num))\n",
    "\n",
    "x = 5\n",
    "print(\"Before function call:\", id(x))\n",
    "modify_value(x)\n",
    "print(\"After function call:\", id(x))"
   ]
  },
  {
   "cell_type": "markdown",
   "metadata": {},
   "source": [
    "### Pass by Reference(with immutable type)"
   ]
  },
  {
   "cell_type": "code",
   "execution_count": null,
   "metadata": {},
   "outputs": [],
   "source": [
    "def modify_list(lst: list):\n",
    "    print(\"Inside function (before modification):\", id(lst))\n",
    "    lst.append(4)\n",
    "    print(\"Inside function (after modification):\", id(lst))\n",
    "\n",
    "my_list = [1, 2, 3]\n",
    "print(\"Before function call:\", id(my_list))\n",
    "modify_list(my_list)\n",
    "print(\"After function call:\", id(my_list))"
   ]
  },
  {
   "cell_type": "markdown",
   "metadata": {},
   "source": [
    "## Mutable and Immutable Variables\n",
    "\n",
    "* Variables in Python can be either mutable or immutable.\n",
    "\n",
    "* Mutable types can be changed after they are created. Examples include lists, dictionaries, and sets.\n",
    "* Immutable types cannot be changed after they are created. Examples include integers, floats, strings, and tuples."
   ]
  },
  {
   "cell_type": "markdown",
   "metadata": {},
   "source": [
    "### Example: mutable type\n",
    "* ID of the object remains same before and after modification"
   ]
  },
  {
   "cell_type": "code",
   "execution_count": null,
   "metadata": {},
   "outputs": [],
   "source": [
    "my_list = [1, 2, 3]\n",
    "print(\"Before modification:\", my_list, \"id:\", id(my_list))\n",
    "my_list.append(4)\n",
    "print(\"After modification:\", my_list, \"id:\", id(my_list))"
   ]
  },
  {
   "cell_type": "markdown",
   "metadata": {},
   "source": [
    "### Example: immutable type\n",
    "* ID of the object changes after modification, i.e. a new object is created after modification"
   ]
  },
  {
   "cell_type": "code",
   "execution_count": null,
   "metadata": {},
   "outputs": [],
   "source": [
    "my_string = \"hello\"\n",
    "print(\"Before modification:\", my_string, \"id:\", id(my_string))\n",
    "my_string = my_string + \" world\"\n",
    "print(\"After modification:\", my_string, \"id:\", id(my_string))"
   ]
  },
  {
   "cell_type": "markdown",
   "metadata": {},
   "source": [
    "## Runtime Error Classes\n",
    "* Python has several built-in error classes to handle run time errors. Some common runtime errors are the following."
   ]
  },
  {
   "cell_type": "markdown",
   "metadata": {},
   "source": [
    "### Index error\n",
    "* Occurs when trying to access an index that is out of range."
   ]
  },
  {
   "cell_type": "code",
   "execution_count": null,
   "metadata": {},
   "outputs": [],
   "source": [
    "try:\n",
    "    my_list = [1, 2, 3]\n",
    "    print(my_list[3])  # This will raise an IndexError\n",
    "except IndexError as e:\n",
    "    print(\"Caught an IndexError:\", str(e))"
   ]
  },
  {
   "cell_type": "markdown",
   "metadata": {},
   "source": [
    "### Zero division error\n",
    "* Occurs when trying to divide by zero"
   ]
  },
  {
   "cell_type": "code",
   "execution_count": null,
   "metadata": {},
   "outputs": [],
   "source": [
    "try:\n",
    "    result = 10 / 0  # This will raise a ZeroDivisionError\n",
    "except ZeroDivisionError as e:\n",
    "    print(\"Caught a ZeroDivisionError:\", str(e))"
   ]
  },
  {
   "cell_type": "markdown",
   "metadata": {},
   "source": [
    "## try-except-else-finally block\n",
    "The try-except-else-finally block is used in python for exception handling\n",
    "* try block: contains the code that may raise an exception\n",
    "* except block: contains the code that is executed if an exception is raised\n",
    "* else block: contains the code that is executed if no exception is raised\n",
    "* finally block: contains the code that is always executed, regardless of weather an exception is raised. "
   ]
  },
  {
   "cell_type": "code",
   "execution_count": null,
   "metadata": {},
   "outputs": [],
   "source": [
    "try:\n",
    "    numerator = 10\n",
    "    denominator = 2\n",
    "    result = numerator / denominator\n",
    "except ZeroDivisionError as e:\n",
    "    print(\"Caught a ZeroDivisionError:\", str(e))\n",
    "else:\n",
    "    print(\"Division successful:\", result)\n",
    "finally:\n",
    "    print(\"This block is always executed\")"
   ]
  }
 ],
 "metadata": {
  "kernelspec": {
   "display_name": "python12",
   "language": "python",
   "name": "python3"
  },
  "language_info": {
   "codemirror_mode": {
    "name": "ipython",
    "version": 3
   },
   "file_extension": ".py",
   "mimetype": "text/x-python",
   "name": "python",
   "nbconvert_exporter": "python",
   "pygments_lexer": "ipython3",
   "version": "3.12.0"
  }
 },
 "nbformat": 4,
 "nbformat_minor": 2
}
