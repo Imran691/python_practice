{
 "cells": [
  {
   "cell_type": "markdown",
   "metadata": {},
   "source": [
    "# Accessing values of dictionary inside a dictionary (Nested Dictionary)"
   ]
  },
  {
   "cell_type": "code",
   "execution_count": null,
   "metadata": {},
   "outputs": [],
   "source": [
    "from typing import Dict, Union\n",
    "\n",
    "Key = Union[str, int]\n",
    "Value = Union[str, int, list, dict]\n",
    "\n",
    "person : Dict[Key, Value] = {\n",
    "    'name' : 'Imran',\n",
    "    'institute' : {'name': 'UMT', 'location' : 'Lahore'}\n",
    "}\n",
    "\n",
    "print(person['institute']['location'])"
   ]
  },
  {
   "cell_type": "markdown",
   "metadata": {},
   "source": [
    "# Dictionary methods\n",
    "* dictionary methods can be found by below code"
   ]
  },
  {
   "cell_type": "code",
   "execution_count": null,
   "metadata": {},
   "outputs": [],
   "source": [
    "person : dict[str, str] = {\n",
    "    \"name\": \"John\",\n",
    "    \"age\": \"30\",\n",
    "}\n",
    "\n",
    "methods : list[str] = [m for m in dir(person) if \"__\" not in m]\n",
    "print(methods)"
   ]
  },
  {
   "cell_type": "markdown",
   "metadata": {},
   "source": [
    "# del\n",
    "* deletes the data as well as variable"
   ]
  },
  {
   "cell_type": "code",
   "execution_count": null,
   "metadata": {},
   "outputs": [],
   "source": [
    "from typing import Dict\n",
    "\n",
    "person : Dict[str, str] = {\n",
    "    'f_name': 'Ali',\n",
    "    'name' : 'Hasan',\n",
    "    'education': 'MSDS'\n",
    "}\n",
    "\n",
    "del person\n",
    "\n",
    "print(person)    # result: person is not defined"
   ]
  },
  {
   "cell_type": "markdown",
   "metadata": {},
   "source": [
    "# clear()\n",
    "* clears all the data but and leaves back empty variable"
   ]
  },
  {
   "cell_type": "code",
   "execution_count": 16,
   "metadata": {},
   "outputs": [
    {
     "name": "stdout",
     "output_type": "stream",
     "text": [
      "{}\n"
     ]
    }
   ],
   "source": [
    "from typing import Dict\n",
    "\n",
    "person : Dict[str, str] = {\n",
    "    'f_name': 'Ali',\n",
    "    'name' : 'Hasan',\n",
    "    'education': 'MSDS'\n",
    "}\n",
    "\n",
    "person.clear()\n",
    "\n",
    "print(person)    # result: {} empty dictionary"
   ]
  },
  {
   "cell_type": "markdown",
   "metadata": {},
   "source": [
    "# pop()\n",
    "* removes the value of key given as argument\n",
    "* it is a return function and we can used the poped value"
   ]
  },
  {
   "cell_type": "code",
   "execution_count": null,
   "metadata": {},
   "outputs": [],
   "source": [
    "from typing import Dict\n",
    "\n",
    "person : dict[str, str] = {\n",
    "    'f_name': 'Ali',\n",
    "    'name' : 'Hasan',\n",
    "    'education': 'MSDS'\n",
    "}\n",
    "\n",
    "person.pop('education')\n",
    "\n",
    "print(person) "
   ]
  },
  {
   "cell_type": "markdown",
   "metadata": {},
   "source": [
    "# popitem() \n",
    " * removes last item of dictionary\n",
    " * requires no argument"
   ]
  },
  {
   "cell_type": "code",
   "execution_count": null,
   "metadata": {},
   "outputs": [],
   "source": [
    "from typing import Dict\n",
    "\n",
    "person : Dict[str, str] = {\n",
    "    'f_name': 'Ali',\n",
    "    'name' : 'Hasan',\n",
    "    'education': 'MSDS'\n",
    "}\n",
    "\n",
    "person.popitem()\n",
    "\n",
    "print(person) "
   ]
  },
  {
   "cell_type": "markdown",
   "metadata": {},
   "source": [
    "# setdefault()\n",
    "* adds keys and values at the end of dictionary\n",
    "* if we add only one argument, it will be key and default value of this key will be assigned as 'None'\n",
    "* if we add two arguments, first will become key and second will become value"
   ]
  },
  {
   "cell_type": "code",
   "execution_count": null,
   "metadata": {},
   "outputs": [],
   "source": [
    "from typing import Dict\n",
    "\n",
    "person : Dict[str, str] = {\n",
    "    'f_name': 'Ali',\n",
    "    'name' : 'Hasan',\n",
    "    'education': 'MSDS'\n",
    "}\n",
    "\n",
    "print('data before', person)\n",
    "\n",
    "person.setdefault('country', 'Pakistan')\n",
    "\n",
    "print('data after', person) "
   ]
  },
  {
   "cell_type": "markdown",
   "metadata": {},
   "source": [
    "# update()\n",
    "* updates existing values\n",
    "* adds new values"
   ]
  },
  {
   "cell_type": "code",
   "execution_count": null,
   "metadata": {},
   "outputs": [],
   "source": [
    "from typing import Dict\n",
    "\n",
    "person : Dict[str, str] = {\n",
    "    'f_name': 'Ali',\n",
    "    'name' : 'Hasan',\n",
    "    'education': 'MSDS'\n",
    "}\n",
    "\n",
    "person1 : dict[str, str] = {\n",
    "    'name' : 'Hasan Ali',       # name will be updated\n",
    "    'age': 30,                  # age will be appended\n",
    "}\n",
    "print('data before', person)\n",
    "\n",
    "person.update(person1)\n",
    "\n",
    "print('data after', person) "
   ]
  },
  {
   "cell_type": "markdown",
   "metadata": {},
   "source": [
    "# Examples from the book"
   ]
  },
  {
   "cell_type": "code",
   "execution_count": null,
   "metadata": {},
   "outputs": [],
   "source": [
    "from typing import Dict\n",
    "\n",
    "alien_0: dict[str, int] = {\n",
    "    'x_position': 0,\n",
    "    'y_position': 25,\n",
    "    'speed': 'medium',\n",
    "    }\n",
    "\n",
    "print(f\"Original position: {alien_0['x_position']}\")\n",
    "\n",
    "if alien_0['speed'] == 'slow':\n",
    "    x_increment = 1\n",
    "elif alien_0['speed'] == 'medium':\n",
    "    x_increment = 2\n",
    "else:\n",
    "    x_increment = 3\n",
    "alien_0['x_position'] += x_increment\n",
    "\n",
    "print(f\"New position: {alien_0['x_position']}\")"
   ]
  },
  {
   "cell_type": "code",
   "execution_count": null,
   "metadata": {},
   "outputs": [],
   "source": [
    "favorite_languages = {\n",
    "'jen': 'python',\n",
    "'sarah': 'c',\n",
    "'edward': 'rust',\n",
    "'phil': 'python',\n",
    "}\n",
    "\n",
    "friends = ['phil', 'sarah']\n",
    "\n",
    "for name in favorite_languages.keys():\n",
    "    print(f\"Hi {name.title()}.\")\n",
    "    if name in friends:\n",
    "        language = favorite_languages[name].title()\n",
    "        print(f\"\\t{name.title()}, I see you love {language}!\")"
   ]
  },
  {
   "cell_type": "code",
   "execution_count": 53,
   "metadata": {},
   "outputs": [
    {
     "data": {
      "text/plain": [
       "True"
      ]
     },
     "execution_count": 53,
     "metadata": {},
     "output_type": "execute_result"
    }
   ],
   "source": [
    "# fraction of a string can be found by this way\n",
    "\"Imran\" in \"My name is Imran and I am learning python\"  "
   ]
  },
  {
   "cell_type": "markdown",
   "metadata": {},
   "source": [
    "# List of dictionaries"
   ]
  },
  {
   "cell_type": "code",
   "execution_count": null,
   "metadata": {},
   "outputs": [],
   "source": [
    "alien_0 : Dict[Key, Value] = {'color': 'green', 'points': 5}\n",
    "alien_1 : Dict[Key, Value] = {'color': 'yellow', 'points': 10}\n",
    "alien_2 : Dict[Key, Value] = {'color': 'red', 'points': 15}\n",
    "\n",
    "aliens : list[Dict[str, str]] = [alien_0, alien_1, alien_2]\n",
    "\n",
    "for alien in aliens:\n",
    "    print(alien)"
   ]
  },
  {
   "cell_type": "code",
   "execution_count": null,
   "metadata": {},
   "outputs": [],
   "source": [
    "import pprint\n",
    "\n",
    "aliens : list[dict[str, str]] = []\n",
    "\n",
    "# Make 30 green aliens.\n",
    "for alien_number in range(30):\n",
    "    new_alien = {'color': 'green', 'points': 5, 'speed': 'slow'}\n",
    "    aliens.append(new_alien)\n",
    "    for alien in aliens[:5]:\n",
    "        if alien['color'] == 'green':\n",
    "            alien['color'] = 'red'\n",
    "            alien['points'] = 10\n",
    "            alien['speed'] = 'medium'\n",
    "        elif \n",
    "\n",
    "pprint.pprint(aliens)"
   ]
  },
  {
   "cell_type": "markdown",
   "metadata": {},
   "source": [
    "# Convert dictionary into json"
   ]
  },
  {
   "cell_type": "code",
   "execution_count": null,
   "metadata": {},
   "outputs": [],
   "source": []
  },
  {
   "cell_type": "markdown",
   "metadata": {},
   "source": [
    "# Dictionary can be used to from tabular data"
   ]
  },
  {
   "cell_type": "code",
   "execution_count": null,
   "metadata": {},
   "outputs": [],
   "source": [
    "import pandas as pd\n",
    "\n",
    "from typing import Any\n",
    "\n",
    "students_data : dict[str, list[Any]] = {\n",
    "    'roll no' : [1, 2, 3, 4],\n",
    "    'name' : ['Qasim', 'Ali', 'Alex', 'John'],\n",
    "    'residence' : ['Karachi', 'Lahore', 'Faisal Abad', 'Peshawar']\n",
    "}\n",
    "\n",
    "df : pd.DataFrame = pd.DataFrame(students_data)\n",
    "\n",
    "df"
   ]
  }
 ],
 "metadata": {
  "kernelspec": {
   "display_name": "python12",
   "language": "python",
   "name": "python3"
  },
  "language_info": {
   "codemirror_mode": {
    "name": "ipython",
    "version": 3
   },
   "file_extension": ".py",
   "mimetype": "text/x-python",
   "name": "python",
   "nbconvert_exporter": "python",
   "pygments_lexer": "ipython3",
   "version": "3.12.0"
  }
 },
 "nbformat": 4,
 "nbformat_minor": 2
}
