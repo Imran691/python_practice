{
 "cells": [
  {
   "cell_type": "markdown",
   "metadata": {},
   "source": [
    "# Python Help\n",
    "* We can take help from Python about any method by following ways\n",
    "* help(object)\n",
    "* object?\n",
    "* object??\n",
    "* ?object\n",
    "* ??object"
   ]
  },
  {
   "cell_type": "markdown",
   "metadata": {},
   "source": [
    "# Lists\n",
    "* A list in Python is an ordered collection of items. Lists can contain a mix of different data types, including numbers, strings, and other lists. Lists are created by placing the items inside square brackets [], separated by commas."
   ]
  },
  {
   "cell_type": "markdown",
   "metadata": {},
   "source": [
    "## Indexing\n",
    "* Positive Indexing: starts from beginning of the list\n",
    "* Negative Indexing: start from end of the list"
   ]
  },
  {
   "cell_type": "code",
   "execution_count": null,
   "metadata": {},
   "outputs": [],
   "source": [
    "from typing import Union\n",
    "\n",
    "fruits: list[Union[str, int, bool]] = [\"Apple\", \"Cherry\", \"Mango\", \"Banana\", True, 20]\n",
    "\n",
    "print(fruits)               # prints complete list\n",
    "print(fruits[0])            # prints the item at zero index\n",
    "print(fruits[1])            # prints the item at first index\n",
    "\n",
    "print(fruits[-1])           # prints the item at last index"
   ]
  },
  {
   "cell_type": "markdown",
   "metadata": {},
   "source": [
    "## List Methods\n",
    "* Python lists come with a set of built-in methods:\n",
    "\n",
    "* append(): Adds an element to the end of the list.\n",
    "* clear(): Removes all elements from the list.\n",
    "* copy(): Returns a copy of the list.\n",
    "* count(): Returns the number of elements with the specified value.\n",
    "* extend(): Adds elements from another list (or any iterable) to the current list.\n",
    "* index(): Returns the index of the first element with the specified value.\n",
    "* insert(): Adds an element at a specified position.\n",
    "* pop(): Removes the element at a specified position.\n",
    "* remove(): Removes the first item with the specified value.\n",
    "* reverse(): Reverses the order of the list.\n",
    "* sort(): Sorts the list.\n",
    "\n",
    "** For more details and examples on each method, refer to the official Python documentation."
   ]
  },
  {
   "cell_type": "markdown",
   "metadata": {},
   "source": [
    "## To check applicable methods on list"
   ]
  },
  {
   "cell_type": "code",
   "execution_count": null,
   "metadata": {},
   "outputs": [],
   "source": [
    "[i for i in dir(list) if \"__\" not in i]"
   ]
  },
  {
   "cell_type": "markdown",
   "metadata": {},
   "source": [
    "## Slicing\n",
    "* Allows to get a sub-set of a list. \n",
    "    * list[start : stop : step]"
   ]
  },
  {
   "cell_type": "code",
   "execution_count": null,
   "metadata": {},
   "outputs": [],
   "source": [
    "fruits[1 : 3]       # index : 1 will be inclusive, index : 3 will be exclusive"
   ]
  },
  {
   "cell_type": "markdown",
   "metadata": {},
   "source": [
    "## list()\n",
    "* To make list of characters we apply list() method"
   ]
  },
  {
   "cell_type": "code",
   "execution_count": null,
   "metadata": {},
   "outputs": [],
   "source": [
    "characters : list[str] = list(\"ABCDEFGHIJKLMNOPQRSTUVWXYZ\")\n",
    "print(characters)\n",
    "\n",
    "nums : list[int] = list(range(1, 10))   # 1 inclusinve, 10 exclusive\n",
    "print(nums)"
   ]
  },
  {
   "cell_type": "code",
   "execution_count": null,
   "metadata": {},
   "outputs": [],
   "source": [
    "name: list[str] = list(\"imranali\")\n",
    "print(name)"
   ]
  },
  {
   "cell_type": "code",
   "execution_count": 11,
   "metadata": {},
   "outputs": [
    {
     "name": "stdout",
     "output_type": "stream",
     "text": [
      "['A', 'B']\n",
      "['A', 'B']\n",
      "['A', 'B']\n",
      "['A', 'C', 'E']\n",
      "['A', 'C', 'E', 'G', 'I', 'K', 'M', 'O', 'Q', 'S', 'U', 'W', 'Y']\n"
     ]
    }
   ],
   "source": [
    "characters: list[str] = ['A', 'B', 'C', 'D', 'E', 'F', 'G', 'H', 'I', 'J', 'K', 'L', 'M', 'N', 'O', 'P', 'Q', 'R', 'S', 'T', 'U', 'V', 'W', 'X', 'Y', 'Z']\n",
    "\n",
    "# By default slicing goes from left to right\n",
    "\n",
    "print(characters[0 : 2])        # index 0 inclusive, index 2 exclusive\n",
    "print(characters[ : 2])         # index 0 inclusive, index 2 exclusive\n",
    "print(characters[-26 : -24])    # index -26 inclusive, index -24 exclusive\n",
    "\n",
    "print(characters[0 : 6 : 2])    # index 0 inclusive, index 6 exclusive, step 2\n",
    "\n",
    "print(characters[ :  : 2])      # index 0 inclusive, index 26 exclusive, step 2\n"
   ]
  },
  {
   "cell_type": "code",
   "execution_count": 12,
   "metadata": {},
   "outputs": [
    {
     "name": "stdout",
     "output_type": "stream",
     "text": [
      "['B', 'C', 'D', 'E', 'F']\n"
     ]
    }
   ],
   "source": [
    "                        # 0    1    2    3    4    5    6    7    8\n",
    "characters: list[str] = ['A', 'B', 'C', 'D', 'E', 'F', 'G', 'H', 'I']\n",
    "                        # -9  -8   -7   -6   -5   -4   -3   -2   -1\n",
    "\n",
    "print(characters[1 : -3])"
   ]
  },
  {
   "cell_type": "markdown",
   "metadata": {},
   "source": [
    "## Slicing goes from left to right only"
   ]
  },
  {
   "cell_type": "code",
   "execution_count": null,
   "metadata": {},
   "outputs": [],
   "source": [
    "                        # 0    1    2    3    4    5    6    7    8\n",
    "characters: list[str] = ['A', 'B', 'C', 'D', 'E', 'F', 'G', 'H', 'I']\n",
    "                        # -9  -8   -7   -6   -5   -4   -3   -2   -1\n",
    "\n",
    "print(characters[-2 : -5])  # results in empty [] because slicing goes from left to right only\n",
    "print(characters[5 : 2])"
   ]
  },
  {
   "cell_type": "markdown",
   "metadata": {},
   "source": [
    "## Slicing can go right to left only if step is negative"
   ]
  },
  {
   "cell_type": "code",
   "execution_count": 15,
   "metadata": {},
   "outputs": [
    {
     "name": "stdout",
     "output_type": "stream",
     "text": [
      "[]\n"
     ]
    }
   ],
   "source": [
    "                        # 0    1    2    3    4    5    6    7    8\n",
    "characters: list[str] = ['A', 'B', 'C', 'D', 'E', 'F', 'G', 'H', 'I']\n",
    "                        # -9  -8   -7   -6   -5   -4   -3   -2   -1\n",
    "\n",
    "print(characters[-2 : -5 : -1])"
   ]
  },
  {
   "cell_type": "markdown",
   "metadata": {},
   "source": [
    "## Reversing the order of list elements"
   ]
  },
  {
   "cell_type": "code",
   "execution_count": 16,
   "metadata": {},
   "outputs": [
    {
     "name": "stdout",
     "output_type": "stream",
     "text": [
      "['Z', 'Y', 'X', 'W', 'V', 'U', 'T', 'S', 'R', 'Q', 'P', 'O', 'N', 'M', 'L', 'K', 'J', 'I', 'H', 'G', 'F', 'E', 'D', 'C', 'B', 'A']\n"
     ]
    }
   ],
   "source": [
    "characters: list[str] = ['A', 'B', 'C', 'D', 'E', 'F', 'G', 'H', 'I', 'J', 'K', 'L', 'M', 'N', 'O', 'P', 'Q', 'R', 'S', 'T', 'U', 'V', 'W', 'X', 'Y', 'Z']\n",
    "\n",
    "print(characters[ : : -1])"
   ]
  },
  {
   "cell_type": "markdown",
   "metadata": {},
   "source": [
    "## Deleting items from Lists"
   ]
  },
  {
   "cell_type": "markdown",
   "metadata": {},
   "source": [
    "### del\n",
    "* We can delete any item from a list by using \"del\" keyword\n",
    "* But we can't assign the deleted item to a variable for further ues."
   ]
  },
  {
   "cell_type": "code",
   "execution_count": null,
   "metadata": {},
   "outputs": [],
   "source": [
    "names: list[str] = [\"Ali\", \"Imran\", \"Usama\", \"Alex\"]\n",
    "print(f\"Complete list: {names}\")\n",
    "del names[2]\n",
    "# we can't write it like below\n",
    "# a : str = names.del[1]\n",
    "print(f\"After deleting the specified element: {names}\")"
   ]
  },
  {
   "cell_type": "code",
   "execution_count": null,
   "metadata": {},
   "outputs": [],
   "source": [
    "names: list[str] = [\"Ali\", \"Imran\", \"Usama\", \"Alex\"]\n",
    "del names    # will delete the complete object from the memory \n",
    "print(names)"
   ]
  },
  {
   "cell_type": "markdown",
   "metadata": {},
   "source": [
    "### clear()\n",
    "* deletes all the items but the object is remained"
   ]
  },
  {
   "cell_type": "code",
   "execution_count": null,
   "metadata": {},
   "outputs": [],
   "source": [
    "names: list[str] = [\"Ali\", \"Imran\", \"Usama\", \"Alex\"]\n",
    "print(f\"COmplete list: {names}\")\n",
    "names.clear()    \n",
    "print(f\"After clearing: {names}\")"
   ]
  },
  {
   "cell_type": "markdown",
   "metadata": {},
   "source": [
    "### pop()\n",
    "* pop() method can be used to remove the last item from a list\n",
    "    * By default it will remove the last item of the list\n",
    "    * But we can remove any item by specifying its index number like pop(0)\n",
    "* pop() is a return method because it returns the popped values and is called by using \".\" at the end of list name\n",
    "    * items removed by pop method can be stored in a variable for future use"
   ]
  },
  {
   "cell_type": "code",
   "execution_count": 21,
   "metadata": {},
   "outputs": [
    {
     "name": "stdout",
     "output_type": "stream",
     "text": [
      "Complete list: ['Ali', 'Imran', 'Usama', 'Alex']\n",
      "Poped element: Usama\n",
      "Remaining list: ['Ali', 'Imran', 'Alex']\n"
     ]
    }
   ],
   "source": [
    "names: list[str] = [\"Ali\", \"Imran\", \"Usama\", \"Alex\"]\n",
    "print(f\"Complete list: {names}\")\n",
    "\n",
    "name_1: str = names.pop(2)\n",
    "print(f\"Poped element: {name_1}\")\n",
    "print(f\"Remaining list: {names}\")"
   ]
  },
  {
   "cell_type": "markdown",
   "metadata": {},
   "source": [
    "### remove()\n",
    "* To delete an item by using its value, we use remove() method\n",
    "    * remove() is a non return method"
   ]
  },
  {
   "cell_type": "code",
   "execution_count": null,
   "metadata": {},
   "outputs": [],
   "source": [
    "names: list[str] = [\"Ali\", \"Imran\", \"Usama\", \"Alex\"]\n",
    "print(names)\n",
    "names.remove(\"Ali\")\n",
    "print(names)"
   ]
  },
  {
   "cell_type": "markdown",
   "metadata": {},
   "source": [
    "## Adding items in Lists"
   ]
  },
  {
   "cell_type": "markdown",
   "metadata": {},
   "source": [
    "### append()\n",
    "* append() method is used to insert items at the end of a list\n"
   ]
  },
  {
   "cell_type": "code",
   "execution_count": null,
   "metadata": {},
   "outputs": [],
   "source": [
    "names : list[str] = []\n",
    "print(f\"Original list: {names}\")\n",
    "names.append('Ali')\n",
    "print(f\"After adding 'Ali': {names}\")\n",
    "names.append(\"Hamza\")\n",
    "print(f\"After adding 'Hamza': {names}\")"
   ]
  },
  {
   "cell_type": "markdown",
   "metadata": {},
   "source": [
    "### insert()\n",
    "* To add the item at a desired index we used insert() method\n",
    "* insert() must takes two arguments first one is the index number where we want to insert an item and second is the item itself"
   ]
  },
  {
   "cell_type": "code",
   "execution_count": null,
   "metadata": {},
   "outputs": [],
   "source": [
    "names: list[str] = [\"Ali\", \"Imran\", \"Usama\", \"Alex\"]\n",
    "print(f\"Original list: {names} \")\n",
    "names.insert(1, \"Hamid\")\n",
    "print(f\"After insertion: {names} \")"
   ]
  },
  {
   "cell_type": "markdown",
   "metadata": {},
   "source": [
    "## Assigning a list to another list"
   ]
  },
  {
   "cell_type": "markdown",
   "metadata": {},
   "source": [
    "### Assignment operator"
   ]
  },
  {
   "cell_type": "code",
   "execution_count": null,
   "metadata": {},
   "outputs": [],
   "source": [
    "a : list[str] = [\"ABC\", \"DEF\", \"GHI\"]\n",
    "\n",
    "b = a\n",
    "print(f\"List a: {a}\")\n",
    "print(f\"List b: {b}\")"
   ]
  },
  {
   "cell_type": "code",
   "execution_count": 33,
   "metadata": {},
   "outputs": [
    {
     "name": "stdout",
     "output_type": "stream",
     "text": [
      "List a: ['Li', 'ABC', 'DEF', 'GHI']\n",
      "List b: ['Li', 'ABC', 'DEF', 'GHI']\n"
     ]
    }
   ],
   "source": [
    "# but if we add an item to \"b\" it will also be added to \"a\"\n",
    "b.insert(0, \"Li\")\n",
    "\n",
    "print(f\"List a: {a}\")\n",
    "print(f\"List b: {b}\")"
   ]
  },
  {
   "cell_type": "markdown",
   "metadata": {},
   "source": [
    "### copy()\n",
    "* We can use copy() method to add items to only \"b\". Now if we add an item in list \"b\" it will not be added to list \"a\""
   ]
  },
  {
   "cell_type": "code",
   "execution_count": null,
   "metadata": {},
   "outputs": [],
   "source": [
    "a : list[str] = [\"a\", \"b\", \"c\"]\n",
    "print(f\"List a: {a}\")\n",
    "b = a.copy()\n",
    "print(f\"List b: {b}\")\n",
    "b.append(\"d\")\n",
    "print(f\"List b after appending 'd' : {b}\")\n",
    "print(f\"List a after appending 'd' to list b : {a}\")"
   ]
  },
  {
   "cell_type": "markdown",
   "metadata": {},
   "source": [
    "## Finding the number of elements of a list"
   ]
  },
  {
   "cell_type": "markdown",
   "metadata": {},
   "source": [
    "### count()\n",
    "* To find the number of occurances of a specific element\n",
    "* count.list(name of element)"
   ]
  },
  {
   "cell_type": "code",
   "execution_count": null,
   "metadata": {},
   "outputs": [],
   "source": [
    "names : list[str] = [\"Ali\", \"Ahmad\", \"Nasir\"]\n",
    "print(names.count(\"Ali\"))"
   ]
  },
  {
   "cell_type": "markdown",
   "metadata": {},
   "source": [
    "## Adding a list into another list"
   ]
  },
  {
   "cell_type": "code",
   "execution_count": 44,
   "metadata": {},
   "outputs": [
    {
     "name": "stdout",
     "output_type": "stream",
     "text": [
      "['Ali', 'Qasim', 'Hasan', ['Lisa', 'Alex']]\n"
     ]
    }
   ],
   "source": [
    "names : list[str] = [\"Ali\", \"Qasim\", \"Hasan\"]\n",
    "new_names : list[str] = [\"Lisa\", \"Alex\"]\n",
    "\n",
    "names.append(new_names)     # append() will add the new_names as a list in the end of the names list\n",
    "print(names)"
   ]
  },
  {
   "cell_type": "markdown",
   "metadata": {},
   "source": [
    "## Finding index of an item\n",
    "* index() is used to find index of an item in a list\n",
    "* if an item occurs more than once, index of only first occurrence will be provided\n",
    "* if we want to find the index of any occurrence after first one, we will provide the number of occurrence whose index is required"
   ]
  },
  {
   "cell_type": "code",
   "execution_count": null,
   "metadata": {},
   "outputs": [],
   "source": [
    "names : list[str] = [\"Ali\", \"Qasim\", \"Hasan\", \"Ali\"]\n",
    "\n",
    "print(names.index(\"Ali\"))\n",
    "print(names.index(\"Ali\", 2))"
   ]
  },
  {
   "cell_type": "markdown",
   "metadata": {},
   "source": [
    "## Reversing the elements of a list\n",
    "* reverse() is used to reverse the order of elements in a list\n",
    "    * reverse() makes the \"in-memory change\", i.e. order of original list is reversed"
   ]
  },
  {
   "cell_type": "code",
   "execution_count": null,
   "metadata": {},
   "outputs": [],
   "source": [
    "# alphs: list[str] = list(\"ABCDEFGH\")\n",
    "# print(alphs)\n",
    "\n",
    "alphabets: list[str] = ['A', 'B', 'C', 'D', 'E', 'F', 'G', 'H']\n",
    "print(alphabets)\n",
    "\n",
    "alphabets.reverse()\n",
    "print(alphabets)"
   ]
  },
  {
   "cell_type": "markdown",
   "metadata": {},
   "source": [
    "## Sorting elements of a list\n",
    "* sort() is used to sort data in ascending order\n",
    "* it also makes \"in-memory\" change"
   ]
  },
  {
   "cell_type": "code",
   "execution_count": null,
   "metadata": {},
   "outputs": [],
   "source": [
    "alphabets: list[str] = ['A', 'B', 'C', 'D', 'E', 'F', 'G', 'H']\n",
    "alphabets.sort()\n",
    "print(alphabets)\n",
    "\n",
    "alphabets.sort(reverse=True)      # to sort the list in reverse order\n",
    "print(alphabets)\n"
   ]
  }
 ],
 "metadata": {
  "kernelspec": {
   "display_name": "python12",
   "language": "python",
   "name": "python3"
  },
  "language_info": {
   "codemirror_mode": {
    "name": "ipython",
    "version": 3
   },
   "file_extension": ".py",
   "mimetype": "text/x-python",
   "name": "python",
   "nbconvert_exporter": "python",
   "pygments_lexer": "ipython3",
   "version": "3.12.0"
  }
 },
 "nbformat": 4,
 "nbformat_minor": 2
}
