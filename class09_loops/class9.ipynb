{
 "cells": [
  {
   "cell_type": "markdown",
   "metadata": {},
   "source": [
    "# Loop and input from users\n",
    "```\n",
    "    while loop\n",
    "    for loop\n",
    "        controls\n",
    "        break\n",
    "        continue\n",
    "        pass\n",
    "    input with input function\n",
    "    input from console\n",
    "\n",
    "    Loop works on iterative data types\n",
    "    lists\n",
    "    dictionaries\n",
    "    tuple\n",
    "    strings  (at strings iteration is performed on keys)\n",
    "```\n"
   ]
  },
  {
   "cell_type": "markdown",
   "metadata": {},
   "source": [
    "## Table of 10"
   ]
  },
  {
   "cell_type": "code",
   "execution_count": null,
   "metadata": {},
   "outputs": [],
   "source": [
    "for number in range(10):\n",
    "    print(f'{number} * 10 = {number * 10}')"
   ]
  },
  {
   "cell_type": "markdown",
   "metadata": {},
   "source": [
    "## Iteration over a list"
   ]
  },
  {
   "cell_type": "code",
   "execution_count": null,
   "metadata": {},
   "outputs": [],
   "source": [
    "li : list[int] = [1,2,3,4,5]\n",
    "\n",
    "for n in li:\n",
    "    print(f'current number = {n}')"
   ]
  },
  {
   "cell_type": "markdown",
   "metadata": {},
   "source": [
    "## Iteration over a typle"
   ]
  },
  {
   "cell_type": "code",
   "execution_count": null,
   "metadata": {},
   "outputs": [],
   "source": [
    "li : tuple[int] = (1,2,3,4,5) \n",
    "\n",
    "for n in li:\n",
    "    print(f'current number = {n}')"
   ]
  },
  {
   "cell_type": "markdown",
   "metadata": {},
   "source": [
    "## Iteration over a string"
   ]
  },
  {
   "cell_type": "code",
   "execution_count": null,
   "metadata": {},
   "outputs": [],
   "source": [
    "name : str = \"Pakisatn\"\n",
    "\n",
    "for c in name:\n",
    "    print(c)"
   ]
  },
  {
   "cell_type": "markdown",
   "metadata": {},
   "source": [
    "## Iteration over a dictionary"
   ]
  },
  {
   "cell_type": "code",
   "execution_count": 2,
   "metadata": {},
   "outputs": [
    {
     "name": "stdout",
     "output_type": "stream",
     "text": [
      "Dictionary key: f_name and it's value is: Ali\n",
      "Dictionary key: name and it's value is: Hasan\n",
      "Dictionary key: education and it's value is: MSDS\n"
     ]
    }
   ],
   "source": [
    "person : dict[str, str] = {\n",
    "    'f_name': 'Ali',\n",
    "    'name' : 'Hasan',\n",
    "    'education': 'MSDS'\n",
    "}\n",
    "\n",
    "for k in person:\n",
    "    print(f\"Dictionary key: {k} and it's value is: {person[k]}\")"
   ]
  },
  {
   "cell_type": "markdown",
   "metadata": {},
   "source": [
    "## Iteration over set\n",
    "* order of iteration is not guaranteed to be the same as the order in which elements were inserted into the set.\n",
    "* as sets do not maintain order."
   ]
  },
  {
   "cell_type": "code",
   "execution_count": null,
   "metadata": {},
   "outputs": [],
   "source": [
    "nums : set[int] = {1,2,3,4,2,5,4,2}\n",
    "\n",
    "for k in nums:\n",
    "    print(f\"The value from the set is: {k}\")"
   ]
  },
  {
   "cell_type": "markdown",
   "metadata": {},
   "source": [
    "# Input from user\n",
    "```\n",
    "    input() function\n",
    "        default type = string\n",
    "    sys.argv (for console input in abc.py file)\n",
    "        default type = object\n",
    "```"
   ]
  },
  {
   "cell_type": "code",
   "execution_count": null,
   "metadata": {},
   "outputs": [],
   "source": [
    "name : str = input('What is your name? \\t')\n",
    "\n",
    "print(type(name))\n",
    "print(f'Welcome dear Mr/Ms {name.title()}')"
   ]
  },
  {
   "cell_type": "code",
   "execution_count": null,
   "metadata": {},
   "outputs": [],
   "source": [
    "name1: str = \"Ai\"\n",
    "print(type(name))\n",
    "\n",
    "name = int(name1)\n",
    "print(type(name1))"
   ]
  },
  {
   "cell_type": "code",
   "execution_count": null,
   "metadata": {},
   "outputs": [],
   "source": [
    "age : str = input(\"Tell me your age.\\t\")\n",
    "\n",
    "age = int(age) #input from user is always a string, so we need to convert it into integer before performing any integer operation\n",
    "\n",
    "if age > 18:\n",
    "    print(\"You are eligible to vote.\")\n",
    "else:\n",
    "    print(\"You are not eligible to vote.\")"
   ]
  },
  {
   "cell_type": "code",
   "execution_count": null,
   "metadata": {},
   "outputs": [],
   "source": [
    "# extract even/odd number from a list\n",
    "\n",
    "nums : list[int] = list(range(0, 11))\n",
    "print(nums)\n",
    "\n",
    "print(f\"Even numbers {[i for i in nums if i % 2 ==0 ]}\")\n",
    "print(f\"Odd numbers {[i for i in nums if i % 2 !=0 ]}\")"
   ]
  },
  {
   "cell_type": "markdown",
   "metadata": {},
   "source": [
    "# While loop\n",
    "```\n",
    "    similar to if condition\n",
    "\n",
    "    while logic:     # True/False\n",
    "        loop body\n",
    "```"
   ]
  },
  {
   "cell_type": "code",
   "execution_count": null,
   "metadata": {},
   "outputs": [],
   "source": [
    "flag : bool = True\n",
    "\n",
    "current_num : int = 0\n",
    "\n",
    "while flag:\n",
    "    print(f'Current Number: {current_num}')\n",
    "    current_num += 1\n",
    "\n",
    "    if current_num == 15:\n",
    "        # break\n",
    "        flag = False"
   ]
  },
  {
   "cell_type": "code",
   "execution_count": null,
   "metadata": {},
   "outputs": [],
   "source": [
    "l1 : list[int] = [100, 105, 106]\n",
    "\n",
    "index : int = 0\n",
    "\n",
    "while index < len(l1):\n",
    "    print(f'Current index is: {index} and its value is: {l1[index]}')\n",
    "    index += 1"
   ]
  },
  {
   "cell_type": "code",
   "execution_count": null,
   "metadata": {},
   "outputs": [],
   "source": [
    "data : list[dict[str, str]] = []\n",
    "\n",
    "flag : bool = True\n",
    "\n",
    "while flag:\n",
    "    name : str = input(\"Enter your name\")\n",
    "    education : str = input(\"Enter your latest qualification\")\n",
    "\n",
    "    if name == \"q\" or education == \"q\":\n",
    "        flag = False\n",
    "        break\n",
    "    data.append({\n",
    "    \"Name\" : name,\n",
    "    \"Education\" : education,\n",
    "    })\n",
    "\n",
    "display(data)"
   ]
  },
  {
   "cell_type": "code",
   "execution_count": null,
   "metadata": {},
   "outputs": [],
   "source": [
    "prompt : str = \"\\n Enter your name. \\n Enter q to quit program.\"\n",
    "\n",
    "flag : bool = True\n",
    "\n",
    "while flag:\n",
    "    message = input(prompt)\n",
    "    if message == \"q\":\n",
    "        flag = False\n",
    "    else:\n",
    "        print(message)"
   ]
  },
  {
   "cell_type": "markdown",
   "metadata": {},
   "source": [
    "# Controls\n",
    "``` \n",
    "    break\n",
    "    continue\n",
    "        skip\n",
    "    pass \n",
    "```"
   ]
  },
  {
   "cell_type": "code",
   "execution_count": null,
   "metadata": {},
   "outputs": [],
   "source": [
    "for i in range(0, 11):\n",
    "    print(i)\n",
    "    if i == 5:\n",
    "        break"
   ]
  },
  {
   "cell_type": "code",
   "execution_count": null,
   "metadata": {},
   "outputs": [],
   "source": [
    "# writing tables\n",
    "for i in range(1, 11):\n",
    "    print(f'11 X {i} = {i * 11}')"
   ]
  },
  {
   "cell_type": "code",
   "execution_count": null,
   "metadata": {},
   "outputs": [],
   "source": [
    "from typing import List\n",
    "\n",
    "# A list of integers\n",
    "numbers: List[int] = [1, 2, 3, 4, 5, 6, 7, 8, 9, 10]\n",
    "\n",
    "# Loop through the list and continue when encountering even numbers\n",
    "for num in numbers:\n",
    "    if num % 2 == 0:\n",
    "        print(f\"Encountered even number: {num}\")\n",
    "        continue  # Skips the remaining code and continues to the next iteration\n",
    "    print(f\"This is an odd number: {num}\")\n"
   ]
  },
  {
   "cell_type": "code",
   "execution_count": null,
   "metadata": {},
   "outputs": [],
   "source": [
    "from typing import List\n",
    "\n",
    "numbers1: List[int] = [0,1,2,3,4,5,6,7,8,9]\n",
    "\n",
    "for n in numbers1:\n",
    "    if n % 2 == 0:\n",
    "        print(f\"Encountered even number: {n}\")\n",
    "        continue\n",
    "    print(f\"Odd number: {n}\")"
   ]
  },
  {
   "cell_type": "code",
   "execution_count": null,
   "metadata": {},
   "outputs": [],
   "source": [
    "if True:\n",
    "    pass\n",
    "\n",
    "print(\"Hello\")\n",
    "print(\"World\")"
   ]
  }
 ],
 "metadata": {
  "kernelspec": {
   "display_name": "python12",
   "language": "python",
   "name": "python3"
  },
  "language_info": {
   "codemirror_mode": {
    "name": "ipython",
    "version": 3
   },
   "file_extension": ".py",
   "mimetype": "text/x-python",
   "name": "python",
   "nbconvert_exporter": "python",
   "pygments_lexer": "ipython3",
   "version": "3.12.0"
  }
 },
 "nbformat": 4,
 "nbformat_minor": 2
}
