{
 "cells": [
  {
   "cell_type": "markdown",
   "metadata": {},
   "source": [
    "# Handling multiple errors in one try block"
   ]
  },
  {
   "cell_type": "markdown",
   "metadata": {},
   "source": [
    "## try-except-else"
   ]
  },
  {
   "cell_type": "code",
   "execution_count": null,
   "metadata": {},
   "outputs": [],
   "source": [
    "def divide(a: float, b: float) -> float:\n",
    "    try:\n",
    "        result = a / b\n",
    "    except ZeroDivisionError:\n",
    "        print(\"Cannot divide by zero!\")\n",
    "        return 0.0\n",
    "    else:\n",
    "        print(\"Division successful\")\n",
    "        return result"
   ]
  },
  {
   "cell_type": "markdown",
   "metadata": {},
   "source": [
    "## Dynamic Error Handling\n",
    "    You can handle errors dynamically by capturing the Exception raised and analyzing it."
   ]
  },
  {
   "cell_type": "code",
   "execution_count": null,
   "metadata": {},
   "outputs": [],
   "source": [
    "def dynamic_error_handling(value: str) -> int:\n",
    "    try:\n",
    "        return int(value)\n",
    "    except Exception as e:\n",
    "        print(f\"An error occurred: {str(e)}\")\n",
    "        return 0"
   ]
  },
  {
   "cell_type": "code",
   "execution_count": null,
   "metadata": {},
   "outputs": [],
   "source": [
    "try:\n",
    "    print(age)\n",
    "except Exception as e:    # Exception is base/parent class. Here any error that will be generated will be saved in \"e\"\n",
    "    print(e)"
   ]
  },
  {
   "cell_type": "markdown",
   "metadata": {},
   "source": [
    "## Examples"
   ]
  },
  {
   "cell_type": "code",
   "execution_count": null,
   "metadata": {},
   "outputs": [],
   "source": [
    "def division():\n",
    "    print(\"I will divide two numbers\")\n",
    "    num_1 = int(input(\"Enter first number\"))\n",
    "    num_2 = int(input(\"Enter second number\"))\n",
    "    try:\n",
    "        answer = num_1/num_2\n",
    "        # print(answer)\n",
    "    except Exception as e:\n",
    "        print(f\"{e} is not allowed\") \n",
    "    else:\n",
    "        return answer\n",
    "\n",
    "division()"
   ]
  },
  {
   "cell_type": "code",
   "execution_count": null,
   "metadata": {},
   "outputs": [],
   "source": [
    "def number_division(num1: int, num2: int) -> float:\n",
    "    try:\n",
    "        result = num1/num2\n",
    "    except Exception as e:\n",
    "        print(e)\n",
    "    else:\n",
    "        return result\n",
    "\n",
    "number_division(15, 0)\n"
   ]
  },
  {
   "cell_type": "markdown",
   "metadata": {},
   "source": [
    "## Multiple Except Blocks"
   ]
  },
  {
   "cell_type": "code",
   "execution_count": 11,
   "metadata": {},
   "outputs": [],
   "source": [
    "def convert_to_int(value: str) -> int:\n",
    "    try:\n",
    "        return int(value)\n",
    "    except ValueError:\n",
    "        print(\"Invalid integer!\")\n",
    "        return 0\n",
    "    except TypeError:\n",
    "        print(\"Value must be a string!\")\n",
    "        return 0"
   ]
  },
  {
   "cell_type": "code",
   "execution_count": null,
   "metadata": {},
   "outputs": [],
   "source": [
    "print(\"logic-1\")\n",
    "print(\"logic-2\")\n",
    "\n",
    "l1 : list[int] = [1,2,3]\n",
    "\n",
    "try:\n",
    "    print(5/1)\n",
    "    print(l1[2])\n",
    "    print(l11)\n",
    "except ZeroDivisionError:\n",
    "    print(\"Zero division error\")\n",
    "except IndexError:\n",
    "    print(\"Index error\")\n",
    "except NameError:\n",
    "    # print(\"Name not defined\"\n",
    "    pass\n",
    "except:                     # To dynamically handle any error that can occur \n",
    "    print(\"Something went wrong\")\n",
    "\n",
    "\n",
    "print(\"logic-3\")"
   ]
  },
  {
   "cell_type": "markdown",
   "metadata": {},
   "source": [
    "## File handling with Access Modifiers"
   ]
  },
  {
   "cell_type": "markdown",
   "metadata": {},
   "source": [
    "### Read Mode(r)\n",
    "Opens a file for reading"
   ]
  },
  {
   "cell_type": "code",
   "execution_count": null,
   "metadata": {},
   "outputs": [],
   "source": [
    "# with block is used to close the connectivity with the file when we have finished working with the file\n",
    "with open('file.txt', 'r') as f:   \n",
    "    content = f.read()\n",
    "    print(content)"
   ]
  },
  {
   "cell_type": "markdown",
   "metadata": {},
   "source": [
    "### Read and Write Mode(r+)\n",
    "Opens a file for reading and writing"
   ]
  },
  {
   "cell_type": "code",
   "execution_count": null,
   "metadata": {},
   "outputs": [],
   "source": [
    "with open('file.txt', 'r+') as f:\n",
    "    content = f.read()\n",
    "    print(content)\n",
    "    f.write(\"New line\")"
   ]
  },
  {
   "cell_type": "markdown",
   "metadata": {},
   "source": [
    "### Write Mode(w)\n",
    "Opens a file for writing, creates the file if it does not exist, and truncates the file if it exists."
   ]
  },
  {
   "cell_type": "code",
   "execution_count": null,
   "metadata": {},
   "outputs": [],
   "source": [
    "with open('file.txt', 'w') as f:\n",
    "    f.write(\"Hello, World!\")"
   ]
  },
  {
   "cell_type": "markdown",
   "metadata": {},
   "source": [
    "### Write and Read Mode(w+)\n",
    "Opens a file for writing and reading"
   ]
  },
  {
   "cell_type": "code",
   "execution_count": null,
   "metadata": {},
   "outputs": [],
   "source": [
    "with open('file.txt', 'w+') as f:\n",
    "    f.write(\"Hello, World!\")\n",
    "    f.seek(0)\n",
    "    content = f.read()\n",
    "    print(content)"
   ]
  },
  {
   "cell_type": "markdown",
   "metadata": {},
   "source": [
    "### Append and Read Mode(a+)\n",
    "Opens a file for appending and reading"
   ]
  },
  {
   "cell_type": "code",
   "execution_count": null,
   "metadata": {},
   "outputs": [],
   "source": [
    "with open('file.txt', 'a+') as f:\n",
    "    f.write(\"Appending line\")\n",
    "    f.seek(0)\n",
    "    content = f.read()\n",
    "    print(content)"
   ]
  },
  {
   "cell_type": "markdown",
   "metadata": {},
   "source": [
    "### Binary Read Mode(br)\n",
    "Opens a file in Binary Read Mode"
   ]
  },
  {
   "cell_type": "code",
   "execution_count": null,
   "metadata": {},
   "outputs": [],
   "source": [
    "with open('file.txt', 'rb') as f:\n",
    "    content = f.read()\n",
    "    print(content)"
   ]
  },
  {
   "cell_type": "markdown",
   "metadata": {},
   "source": [
    "## Reading Different types of files"
   ]
  },
  {
   "cell_type": "markdown",
   "metadata": {},
   "source": [
    "### Reading CSV files\n",
    "You can use the csv module to read CSV files."
   ]
  },
  {
   "cell_type": "code",
   "execution_count": null,
   "metadata": {},
   "outputs": [],
   "source": [
    "import csv\n",
    "\n",
    "with open('file.csv', 'r') as f:\n",
    "    reader = csv.reader(f)\n",
    "    for row in reader:\n",
    "        print(row)"
   ]
  },
  {
   "cell_type": "markdown",
   "metadata": {},
   "source": [
    "### Reading PDF files\n",
    "You can use the PyPDF2 library to read PDF files."
   ]
  },
  {
   "cell_type": "code",
   "execution_count": null,
   "metadata": {},
   "outputs": [],
   "source": [
    "import PyPDF2\n",
    "\n",
    "with open('file.pdf', 'rb') as f:\n",
    "    reader = PyPDF2.PdfFileReader(f)\n",
    "    text = reader.getPage(0).extractText()\n",
    "    print(text)"
   ]
  },
  {
   "cell_type": "markdown",
   "metadata": {},
   "source": [
    "### Reading EXCEL files\n",
    "You can use the openpyxl library to read Excel files."
   ]
  },
  {
   "cell_type": "markdown",
   "metadata": {},
   "source": [
    "import openpyxl\n",
    "\n",
    "wb = openpyxl.load_workbook('file.xlsx')\n",
    "sheet = wb.active\n",
    "cell = sheet['A1']\n",
    "print(cell.value)"
   ]
  },
  {
   "cell_type": "markdown",
   "metadata": {},
   "source": [
    "### Reading Audio file\n",
    "You can use the pydub library to read audio files"
   ]
  },
  {
   "cell_type": "code",
   "execution_count": null,
   "metadata": {},
   "outputs": [],
   "source": [
    "from pydub import AudioSegment\n",
    "\n",
    "audio = AudioSegment.from_file(\"file.mp3\")\n",
    "print(\"Channels:\", audio.channels)\n",
    "print(\"Sample Width:\", audio.sample_width)\n",
    "print(\"Frame Rate:\", audio.frame_rate)\n",
    "print(\"Frame Width:\", audio.frame_width)\n",
    "print(\"Length (ms):\", len(audio))\n",
    "print(\"Frame Count:\", audio.frame_count())"
   ]
  },
  {
   "cell_type": "markdown",
   "metadata": {},
   "source": [
    "### Remember to install the necessary libraries before running the code examples.\n",
    "pip install PyPDF2 openpyxl pydub"
   ]
  }
 ],
 "metadata": {
  "kernelspec": {
   "display_name": "python12",
   "language": "python",
   "name": "python3"
  },
  "language_info": {
   "codemirror_mode": {
    "name": "ipython",
    "version": 3
   },
   "file_extension": ".py",
   "mimetype": "text/x-python",
   "name": "python",
   "nbconvert_exporter": "python",
   "pygments_lexer": "ipython3",
   "version": "3.12.0"
  }
 },
 "nbformat": 4,
 "nbformat_minor": 2
}
