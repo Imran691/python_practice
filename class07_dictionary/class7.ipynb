{
 "cells": [
  {
   "cell_type": "markdown",
   "metadata": {},
   "source": [
    "# Python static typing for dictionaries"
   ]
  },
  {
   "cell_type": "markdown",
   "metadata": {},
   "source": [
    "## Setting up static typing\n",
    "* To use static typing in python we need to import required types from \"typing\" module"
   ]
  },
  {
   "cell_type": "code",
   "execution_count": 2,
   "metadata": {},
   "outputs": [],
   "source": [
    "from typing import Any, Union, Optional"
   ]
  },
  {
   "cell_type": "markdown",
   "metadata": {},
   "source": [
    "## Any\n",
    "* The most flexible type. Can represent any type at all. We can create dictionary with any hashable tpe key and any type of values."
   ]
  },
  {
   "cell_type": "code",
   "execution_count": 3,
   "metadata": {},
   "outputs": [],
   "source": [
    "from typing import Dict\n",
    "\n",
    "my_dict: Dict[Any, Any] = {\n",
    "    \"One\" : 1,\n",
    "    2: \"two\",\n",
    "    (3,4): [3,4]\n",
    "}"
   ]
  },
  {
   "cell_type": "markdown",
   "metadata": {},
   "source": [
    "## Optional\n",
    "* short hand for a value that can either be of a specific type or None"
   ]
  },
  {
   "cell_type": "code",
   "execution_count": 4,
   "metadata": {},
   "outputs": [],
   "source": [
    "from typing import Dict\n",
    "\n",
    "my_dict: Dict[Any, Optional[int]] = {\n",
    "    \"one\": 1,\n",
    "    \"two\": None,\n",
    "    (2,3): 32\n",
    "}"
   ]
  },
  {
   "cell_type": "markdown",
   "metadata": {},
   "source": [
    "## Union\n",
    "* Allows for a value to be of several types"
   ]
  },
  {
   "cell_type": "code",
   "execution_count": null,
   "metadata": {},
   "outputs": [],
   "source": [
    "from typing import Dict\n",
    "\n",
    "my_dict: Dict[Any, Union[int, str]] = {\n",
    "    \"one\": 1,\n",
    "    2: \"two\",\n",
    "}"
   ]
  },
  {
   "cell_type": "markdown",
   "metadata": {},
   "source": [
    "# Dictionaries\n",
    "* key : value pairs\n",
    "* key is replacement of index number in lists"
   ]
  },
  {
   "cell_type": "code",
   "execution_count": null,
   "metadata": {},
   "outputs": [],
   "source": [
    "from typing import Dict, Union\n",
    "import pprint\n",
    "\n",
    "person : Dict[str, str] = {\n",
    "    'f_name': 'Ali',\n",
    "    'name' : 'Hasan',\n",
    "    'education': 'MSDS'\n",
    "}\n",
    "\n",
    "pprint.pprint(person)\n",
    "\n",
    "print(person['f_name'])\n",
    "print(person['name'])\n",
    "print(person['education'])"
   ]
  },
  {
   "cell_type": "markdown",
   "metadata": {},
   "source": [
    "## Updating Values of Keys\n",
    "* dict_name['key'] = 'New Value'"
   ]
  },
  {
   "cell_type": "code",
   "execution_count": null,
   "metadata": {},
   "outputs": [],
   "source": [
    "person['f_name'] = 'Ali Haider'   # updating value of a key\n",
    "\n",
    "pprint.pprint(person)"
   ]
  },
  {
   "cell_type": "markdown",
   "metadata": {},
   "source": [
    "## Custom data types (alias)\n",
    "* We can create our custom data types for keys & values and use these while creating a dictionary"
   ]
  },
  {
   "cell_type": "code",
   "execution_count": 16,
   "metadata": {},
   "outputs": [],
   "source": [
    "from typing import Dict\n",
    "Key = Union[str, int]\n",
    "Value = Union[str, int, float, bool, list, tuple]\n",
    "\n",
    "person : Dict[Key, Value] = {\n",
    "    \"name\": \"John\",\n",
    "    \"age\": 30,\n",
    "}"
   ]
  },
  {
   "cell_type": "markdown",
   "metadata": {},
   "source": [
    "## Hashable data types\n",
    "* Only immutable data types can be hashed\n",
    "* hashable data types include integers, floats, strings, and tuples\n",
    "* Lists and dictionaries, on the other hand, are not hashable because they are mutable"
   ]
  },
  {
   "cell_type": "code",
   "execution_count": null,
   "metadata": {},
   "outputs": [],
   "source": [
    "name : str = \"Imran\"\n",
    "hash(name)"
   ]
  },
  {
   "cell_type": "code",
   "execution_count": null,
   "metadata": {},
   "outputs": [],
   "source": [
    "from typing import Dict, Union\n",
    "import pprint\n",
    "\n",
    "# key type should not be set to any, because it can result in unhashable key, e.g. key can not be a list. If we set the value of a key to list it will result in \"unhashable data type error\" as illustrated below\n",
    "# a key can be str or int or tuple\n",
    "# only hashable data type can be set to be a key\n",
    "\n",
    "Key = Union[str, int]   # custom data type also called alias\n",
    "Value = Union[str, int, list, dict, tuple]\n",
    "\n",
    "person : Dict[Key, Value] = {\n",
    "    'f_name': 'Ali',\n",
    "    'name' : 'Hasan',\n",
    "    'education': 'MSDS',\n",
    "    # [1,1,2,3]: 'Ahmad'    # list data type results in error\n",
    "    # (1,1,2): 'Ahmad'      \n",
    "    # {1,1,2}: 'Ahmad'      # set data type results in error\n",
    "}\n",
    "\n",
    "pprint.pprint(person)"
   ]
  },
  {
   "cell_type": "markdown",
   "metadata": {},
   "source": [
    "# Adding data in empty dictionary\n",
    "* Assignment operator is used to update the value of a key or add new values in an empty dictionary"
   ]
  },
  {
   "cell_type": "code",
   "execution_count": null,
   "metadata": {},
   "outputs": [],
   "source": [
    "from typing import Dict, Union\n",
    "import pprint\n",
    "\n",
    "Key = Union[str, int]  \n",
    "Value = Union[str, int, list, dict, tuple]\n",
    "\n",
    "data : Dict[Key, Value] = {}\n",
    "\n",
    "data['name'] = 'Ahmad'\n",
    "data['fname'] = 'Ahmad Ali'\n",
    "\n",
    "pprint.pprint(data)"
   ]
  },
  {
   "cell_type": "markdown",
   "metadata": {},
   "source": [
    "# get() method\n",
    "* keys are always unique\n",
    "* if we assign same keys to more than one values, only the last value will be printed along with the key"
   ]
  },
  {
   "cell_type": "code",
   "execution_count": null,
   "metadata": {},
   "outputs": [],
   "source": [
    "# If we try to print the value of a key that is not present in a dictionary, it will generate run time error\n",
    "# get() method can be used to print keys, if the key is available, it will print its value, if it is not present it will not generate error\n",
    "\n",
    "# get() requires one argument, i.e. name of the key whose value we want to print. In this case printed value will be \"None\"\n",
    "# second optional argument can be a string to print a message instead of \"None\"\n",
    "\n",
    "from typing import Dict\n",
    "\n",
    "person : Dict[str, str] = {\n",
    "    'f_name': 'Ali',\n",
    "    'name' : 'Hasan',\n",
    "    'education': 'MSDS'\n",
    "}\n",
    "\n",
    "# print(person['roll_num'])    # will result in keyError\n",
    "print(person.get('roll_num'))  # prints \"None\"\n",
    "print(person.get('roll_num', 'Not Available'))  # prints the given message\n"
   ]
  },
  {
   "cell_type": "markdown",
   "metadata": {},
   "source": [
    "## keys() method\n",
    "## values() method\n",
    "## items() method"
   ]
  },
  {
   "cell_type": "code",
   "execution_count": null,
   "metadata": {},
   "outputs": [],
   "source": [
    "# keys() method can be used to print list of keys \n",
    "# values() method can be used to print list of values \n",
    "# items() method can be used to print list of tuples consisting of keys and relevant values\n",
    "from typing import Dict\n",
    "\n",
    "person : dict[str, str] = {\n",
    "    'f_name': 'Ali',\n",
    "    'name' : 'Hasan',\n",
    "    'education': 'MSDS'\n",
    "}\n",
    "\n",
    "print(person.keys())\n",
    "print(person.values())\n",
    "print(person.items())"
   ]
  },
  {
   "cell_type": "code",
   "execution_count": null,
   "metadata": {},
   "outputs": [],
   "source": [
    "# for loop can be used in combination of keys() method to print the values of keys\n",
    "from typing import Dict\n",
    "\n",
    "person : dict[str, str] = {\n",
    "    'f_name': 'Ali',\n",
    "    'name' : 'Hasan',\n",
    "    'education': 'MSDS'\n",
    "}\n",
    "\n",
    "for k in person.keys():\n",
    "    print(k)"
   ]
  },
  {
   "cell_type": "code",
   "execution_count": null,
   "metadata": {},
   "outputs": [],
   "source": [
    "# for loop can be used in combination of values() method to print the values of values\n",
    "from typing import Dict\n",
    "\n",
    "person : dict[str, str] = {\n",
    "    'f_name': 'Ali',\n",
    "    'name' : 'Hasan',\n",
    "    'education': 'MSDS'\n",
    "}\n",
    "\n",
    "for v in person.values():\n",
    "    print(v)"
   ]
  },
  {
   "cell_type": "markdown",
   "metadata": {},
   "source": [
    "# Interchanging values and keys"
   ]
  },
  {
   "cell_type": "code",
   "execution_count": null,
   "metadata": {},
   "outputs": [],
   "source": [
    "a : int = 7\n",
    "b : int = 9\n",
    "\n",
    "print(f'value of a is :{a}')\n",
    "print(f'value of b is :{b}')\n",
    "\n",
    "a,b = b, a       # a will be assigned to b and vice versa\n",
    "\n",
    "print(f'value of a is :{a}')\n",
    "print(f'value of b is :{b}')"
   ]
  },
  {
   "cell_type": "code",
   "execution_count": null,
   "metadata": {},
   "outputs": [],
   "source": [
    "# values & keys can be replaced with each other by following method\n",
    "\n",
    "from typing import Dict\n",
    "\n",
    "person : dict[str, str] = {\n",
    "    'f_name': 'Ali',\n",
    "    'name' : 'Hasan',\n",
    "    'education': 'MSDS'\n",
    "}\n",
    "\n",
    "{ v:k for k,v in person.items() }"
   ]
  },
  {
   "cell_type": "markdown",
   "metadata": {},
   "source": [
    "## Dictionary Comprehensions\n",
    "* provide a concise way of creating dictionaries"
   ]
  },
  {
   "cell_type": "code",
   "execution_count": null,
   "metadata": {},
   "outputs": [],
   "source": [
    "squared_numbers = {i: i**2 for i in range(5)}\n",
    "print(squared_numbers)"
   ]
  },
  {
   "cell_type": "markdown",
   "metadata": {},
   "source": [
    "### Swiping keys and values of a dictionary"
   ]
  },
  {
   "cell_type": "code",
   "execution_count": null,
   "metadata": {},
   "outputs": [],
   "source": [
    "swapped_dict = {v: k for k, v in my_dict.items()}"
   ]
  }
 ],
 "metadata": {
  "kernelspec": {
   "display_name": "python12",
   "language": "python",
   "name": "python3"
  },
  "language_info": {
   "codemirror_mode": {
    "name": "ipython",
    "version": 3
   },
   "file_extension": ".py",
   "mimetype": "text/x-python",
   "name": "python",
   "nbconvert_exporter": "python",
   "pygments_lexer": "ipython3",
   "version": "3.12.0"
  }
 },
 "nbformat": 4,
 "nbformat_minor": 2
}
