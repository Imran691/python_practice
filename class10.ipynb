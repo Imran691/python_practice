{
 "cells": [
  {
   "cell_type": "markdown",
   "metadata": {},
   "source": [
    "# Functions\n",
    "* pre defined\n",
    "    * provided by the language, e.g. print()\n",
    "* custom \n",
    "    * written by user\n",
    "\n",
    "## Return & non-return functions\n",
    "\n",
    "### Function components\n",
    "* Declaration\n",
    "* Body\n",
    "* Invoking\n",
    "\n",
    "### Syntax\n",
    "```\n",
    "def function_name(param1: type, param2: type, ...) -> return_type\n",
    "    function_body\n",
    "\n",
    "function_name(arg1, arg2, ..)\n",
    "```\n",
    "\n",
    "## Function\n",
    "* declared or invoked with parenthesis immediately after it's name\n",
    "    * function_name()\n",
    "## Method\n",
    "* used with a variable with DOT between variable name and method name\n",
    "    * variable.method()"
   ]
  },
  {
   "cell_type": "markdown",
   "metadata": {},
   "source": [
    "# Simple function without any argument\n",
    "    * Also called default function"
   ]
  },
  {
   "cell_type": "code",
   "execution_count": null,
   "metadata": {},
   "outputs": [],
   "source": [
    "def piaic() -> None:\n",
    "    print(\"PIAIC Generative AI\")\n",
    "piaic()"
   ]
  },
  {
   "cell_type": "markdown",
   "metadata": {},
   "source": [
    "# Required parameters"
   ]
  },
  {
   "cell_type": "code",
   "execution_count": null,
   "metadata": {},
   "outputs": [],
   "source": [
    "def add_nums(num1 : int, num2 : int) -> int:   # Here both params are required while invoking the function\n",
    "    return(num1 + num2)\n",
    "add_nums(8, 24)"
   ]
  },
  {
   "cell_type": "markdown",
   "metadata": {},
   "source": [
    "# Default / optional parameters"
   ]
  },
  {
   "cell_type": "code",
   "execution_count": null,
   "metadata": {},
   "outputs": [],
   "source": [
    "def add_nums(num1 : int, num2 : int = 7) -> int:    # here num2 is default\n",
    "    return(num1 + num2)\n",
    "add_nums(10, 25)            # we can over right the default value of num2 by passing argument"
   ]
  },
  {
   "cell_type": "code",
   "execution_count": null,
   "metadata": {},
   "outputs": [],
   "source": [
    "def print_name(name: str) -> str:\n",
    "    print(f\"My name is: {name.title()}\")\n",
    "print_name('imran')"
   ]
  },
  {
   "cell_type": "markdown",
   "metadata": {},
   "source": [
    "# Lambda function\n",
    "* anonymous function\n",
    "* one line function\n",
    "* only to be used in line of declaration\n",
    "## Syntax\n",
    "    ```\n",
    "    lambda param1, param2: function body        # lambda is key word here\n",
    "    ```"
   ]
  },
  {
   "cell_type": "code",
   "execution_count": null,
   "metadata": {},
   "outputs": [],
   "source": [
    "data : list[int] = [1,2,3,4,5,6,7,8,9]\n",
    "data = list(map(lambda x: x**2, data))\n",
    "print(data)"
   ]
  },
  {
   "cell_type": "code",
   "execution_count": null,
   "metadata": {},
   "outputs": [],
   "source": [
    "data : list[int] = [1,2,3,4,5,6,7,8,9]\n",
    "data = list(filter(lambda x: x % 2 == 0, data))\n",
    "print(data)"
   ]
  },
  {
   "cell_type": "markdown",
   "metadata": {},
   "source": [
    "# Generator Function\n",
    "* iterates on elements one by one\n",
    "* stops after each iteration\n",
    "* remembers latest iterated value\n",
    "* in next iteration goes forward from previous iteration"
   ]
  },
  {
   "cell_type": "code",
   "execution_count": 4,
   "metadata": {},
   "outputs": [
    {
     "name": "stdout",
     "output_type": "stream",
     "text": [
      "<generator object my_range at 0x000001B890662E30>\n",
      "0\n",
      "[1, 2, 3, 4, 5, 6, 7, 8, 9, 10]\n"
     ]
    }
   ],
   "source": [
    "from collections.abc import Iterator    # abc stands for abstract base classes\n",
    "\n",
    "def my_range(start:int, end:int, step: int=1) -> Iterator[int]:\n",
    "    for i in range(start, end+1, step):\n",
    "        yield i # Generator Function\n",
    "\n",
    "iterator_variable : Iterator[int] = my_range(0, 10)\n",
    "\n",
    "print(iterator_variable)\n",
    "print(next(iterator_variable))\n",
    "print(list(iterator_variable))"
   ]
  },
  {
   "cell_type": "code",
   "execution_count": null,
   "metadata": {},
   "outputs": [],
   "source": [
    "dir(iterator_variable)"
   ]
  },
  {
   "cell_type": "markdown",
   "metadata": {},
   "source": [
    "# Passing unlimited arguments\n",
    "* we add * before parameter name\n",
    "* returned data type is tuple"
   ]
  },
  {
   "cell_type": "code",
   "execution_count": 5,
   "metadata": {},
   "outputs": [
    {
     "name": "stdout",
     "output_type": "stream",
     "text": [
      "(1, 2, 3, 4, 5, 6, 7) <class 'function'>\n"
     ]
    }
   ],
   "source": [
    "# putting single * before argument will return comma separated values in form of a tuple\n",
    "\n",
    "def nums(*num):     \n",
    "    print(num, type(nums))\n",
    "nums(1,2,3,4,5,6,7)"
   ]
  },
  {
   "cell_type": "code",
   "execution_count": null,
   "metadata": {},
   "outputs": [],
   "source": [
    "# putting double * before argument will return unlimited key value pairs in the form of a dictionary\n",
    "\n",
    "def nums(**num):     \n",
    "    print(num, type(nums))\n",
    "nums(x = 1, y = 2, z = 3)"
   ]
  },
  {
   "cell_type": "code",
   "execution_count": null,
   "metadata": {},
   "outputs": [],
   "source": [
    "# unlimited values with static types\n",
    "\n",
    "from typing import Tuple\n",
    "\n",
    "def greet(*names : tuple[str, ...]) -> None:\n",
    "    for name in names:\n",
    "        print(f'Hello {name}')\n",
    "\n",
    "greet(\"Hena\", \"Lira\", \"Alex\")"
   ]
  },
  {
   "cell_type": "code",
   "execution_count": null,
   "metadata": {},
   "outputs": [],
   "source": [
    "from typing import Dict\n",
    "\n",
    "def countries(**countries : Dict[str, str]) -> None:\n",
    "    print(countries)\n",
    "\n",
    "countries(a = \"Pakistan\", b = \"China\")"
   ]
  },
  {
   "cell_type": "markdown",
   "metadata": {},
   "source": [
    "# Decorator Function"
   ]
  }
 ],
 "metadata": {
  "kernelspec": {
   "display_name": "python12",
   "language": "python",
   "name": "python3"
  },
  "language_info": {
   "codemirror_mode": {
    "name": "ipython",
    "version": 3
   },
   "file_extension": ".py",
   "mimetype": "text/x-python",
   "name": "python",
   "nbconvert_exporter": "python",
   "pygments_lexer": "ipython3",
   "version": "3.12.0"
  }
 },
 "nbformat": 4,
 "nbformat_minor": 2
}
