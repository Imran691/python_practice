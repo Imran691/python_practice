{
 "cells": [
  {
   "cell_type": "markdown",
   "metadata": {},
   "source": [
    "# String Data Type"
   ]
  },
  {
   "cell_type": "code",
   "execution_count": null,
   "metadata": {},
   "outputs": [],
   "source": [
    "name : str = \"Imran\"\n",
    "\n",
    "print(name)\n",
    "print(type(name))"
   ]
  },
  {
   "cell_type": "code",
   "execution_count": null,
   "metadata": {},
   "outputs": [],
   "source": [
    "# place \\ before special characters to convert it into simple character.\n",
    "message : str = \"Captain says, \\\"It's my ship\\\".\"\n",
    "\n",
    "print(message)"
   ]
  },
  {
   "cell_type": "code",
   "execution_count": null,
   "metadata": {},
   "outputs": [],
   "source": [
    "# In order to continue the code in next line use \\ to tell the interpreter that the line of code in not finished.\n",
    "print(\"Muhammad \\\n",
    "Imran \\\n",
    "ALi\")"
   ]
  },
  {
   "cell_type": "code",
   "execution_count": null,
   "metadata": {},
   "outputs": [],
   "source": [
    "name : str = \"  Muhammad Imran   \"\n",
    "print(name.strip())"
   ]
  },
  {
   "cell_type": "code",
   "execution_count": 8,
   "metadata": {},
   "outputs": [
    {
     "name": "stdout",
     "output_type": "stream",
     "text": [
      "muhammad imran\n"
     ]
    }
   ],
   "source": [
    "name : str = \"      MuHammAd iMrAn\"\n",
    "print(name.lower().lstrip())"
   ]
  },
  {
   "cell_type": "code",
   "execution_count": null,
   "metadata": {},
   "outputs": [],
   "source": [
    "# To define multiline string we use \"\"\" \"\"\"\"  or ''' '''\n",
    "\n",
    "card: str = \"\"\"\n",
    "Name : Imran\n",
    "ID: PIAIC123456\n",
    "Session: Q-3\n",
    "Institute: UMT\n",
    "\"\"\"\n",
    "print(card)"
   ]
  },
  {
   "cell_type": "code",
   "execution_count": 12,
   "metadata": {},
   "outputs": [
    {
     "name": "stdout",
     "output_type": "stream",
     "text": [
      "\n",
      "PIAIC ID CARD \n",
      "\tName : Imran\n",
      "\t\tID: PIAIC123456\n",
      "\n",
      "Session: Q-3\n",
      "Institute: UMT\n",
      "sum 10      \n",
      "\n"
     ]
    }
   ],
   "source": [
    "# To use variables' values in a string use f-string \n",
    "\n",
    "name: str = \"Imran\"\n",
    "id: str = \"PIAIC123456\"\n",
    "session: str = \"Q-3\"\n",
    "institute: str = \"UMT\"\n",
    "\n",
    "id_card = f\"\"\"\n",
    "PIAIC ID CARD \n",
    "Name : {name}\n",
    "ID: {id}\n",
    "Session: {session}\n",
    "Institute: {institute}\n",
    "sum {2+3+5}      \n",
    "\"\"\"\n",
    "\n",
    "print(id_card)"
   ]
  },
  {
   "cell_type": "code",
   "execution_count": null,
   "metadata": {},
   "outputs": [],
   "source": [
    "# dir() function is used to find all the operations we can perform on data types\n",
    "dir(str)\n",
    "dir(int)"
   ]
  }
 ],
 "metadata": {
  "kernelspec": {
   "display_name": "python12",
   "language": "python",
   "name": "python3"
  },
  "language_info": {
   "codemirror_mode": {
    "name": "ipython",
    "version": 3
   },
   "file_extension": ".py",
   "mimetype": "text/x-python",
   "name": "python",
   "nbconvert_exporter": "python",
   "pygments_lexer": "ipython3",
   "version": "3.12.0"
  }
 },
 "nbformat": 4,
 "nbformat_minor": 2
}
