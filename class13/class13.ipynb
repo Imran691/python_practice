{
 "cells": [
  {
   "cell_type": "markdown",
   "metadata": {},
   "source": [
    "# Object Oriented Programming (OOP)\n",
    "* Objects are instances of classes, which can contain data (attributes) and code (methods)"
   ]
  },
  {
   "cell_type": "markdown",
   "metadata": {},
   "source": [
    "## Classes, Methods and Attributes\n",
    "* Class: A blueprint for creating objects.\n",
    "* Method: A function defined inside a class\n",
    "* Attribute: A variable that belongs to an object"
   ]
  },
  {
   "cell_type": "markdown",
   "metadata": {},
   "source": [
    "### Creating a simple Class"
   ]
  },
  {
   "cell_type": "code",
   "execution_count": null,
   "metadata": {},
   "outputs": [],
   "source": [
    "class Dog:\n",
    "    def __init__(self, name, age) -> None:      # method/constructor\n",
    "        self.dog_name = name                    # Attribute\n",
    "        self.age = age                          # Attribute\n",
    "\n",
    "    def bark():                                 # Method\n",
    "        print(\"woof\")\n",
    "\n",
    "dog : Dog = Dog(\"Alex\", 12)                     # instance of the Dog class created\n",
    "\n",
    "print(f\"Dog's age is {dog.age}\")\n",
    "print(f\"Dog's name is {dog.dog_name}\")"
   ]
  },
  {
   "cell_type": "code",
   "execution_count": null,
   "metadata": {},
   "outputs": [],
   "source": [
    "class Person():\n",
    "    \n",
    "    income: int = 15\n",
    "\n",
    "    def __init__(self, name: str, residence: str) -> None:\n",
    "        self.person_name : str = name\n",
    "        self.person_address : str = residence\n",
    "\n",
    "    def working(self, office: str) -> None:\n",
    "        print(f\"{self.person_name} is working in {office}.\")\n",
    "\n",
    "person_1 : Person = Person(\"Aslam\", \"Lahore\")\n",
    "person_2 : Person = Person(\"Asif\", \"Multan\")\n",
    "\n",
    "print(f\"{person_2.person_name}'s income is {person_2.income}.\")\n",
    "\n",
    "print(f\"{person_1.person_name} lives in {person_1.person_address}.\")\n",
    "print(person_1.working(\"Gen AI\"))"
   ]
  },
  {
   "cell_type": "code",
   "execution_count": null,
   "metadata": {},
   "outputs": [],
   "source": [
    "class Teacher():\n",
    "    def __init__(self, teacher_id: int, teacher_name: str) -> None:\n",
    "        self.id: int = teacher_id       # self.attribute_name = value\n",
    "        self.teacher_name: str = teacher_name\n",
    "        self.organization: str = \"PIAIC\"\n",
    "\n",
    "    def teaching(self, subject:str) -> None:\n",
    "        print(f\"{self.teacher_name} is teaching {subject}.\")\n",
    "\n",
    "teacher_1 : Teacher = Teacher(1, \"Zia Khan\")\n",
    "\n",
    "print(teacher_1.id)\n",
    "print(teacher_1.teacher_name)\n",
    "print(teacher_1.organization)\n",
    "teacher_1.teaching(\"Gen AI\")"
   ]
  },
  {
   "cell_type": "code",
   "execution_count": null,
   "metadata": {},
   "outputs": [],
   "source": [
    "dir(teacher_1)"
   ]
  },
  {
   "cell_type": "markdown",
   "metadata": {},
   "source": [
    "### Class variables\n",
    "* Class variables are shared by all instances of a class."
   ]
  },
  {
   "cell_type": "code",
   "execution_count": null,
   "metadata": {},
   "outputs": [],
   "source": [
    "class Dog():\n",
    "\n",
    "    species = \"Canis familiaris\"        # Class variable\n",
    "\n",
    "    def __init__(self, name, age) -> None:\n",
    "        self.name = name\n",
    "        self.age = age\n",
    "\n",
    "    def bark():\n",
    "        print(\"woof\")\n",
    "\n",
    "dog1 : Dog = Dog(\"Tony\", 5)\n",
    "\n",
    "print(dog1.species)"
   ]
  },
  {
   "cell_type": "code",
   "execution_count": null,
   "metadata": {},
   "outputs": [],
   "source": [
    "class Teacher():\n",
    "    counter : int = 0\n",
    "    help_line : int = 123456789\n",
    "\n",
    "    def __init__(self, teacher_id: int, teacher_name: str) -> None:\n",
    "        self.id : int = teacher_id\n",
    "        self.name : str = teacher_name\n",
    "        self.organization : str = \"PIAIC\"\n",
    "        Teacher.counter += 1\n",
    "    \n",
    "    def speaking(self, words: str) -> None:\n",
    "        print(f\"{self.name} is speaking {words}\")\n",
    "\n",
    "    def details(self) -> None:\n",
    "        information : str = f\"\"\"\n",
    "        Teacher name is {self.name}\n",
    "        Teacher help line number is {self.help_line}\n",
    "    \"\"\"\n",
    "\n",
    "teacher_1 : Teacher = Teacher(1, \"Qasim\")\n",
    "teacher_2 : Teacher = Teacher(2, \"Zia\")\n",
    "\n",
    "print(teacher_1.counter)\n",
    "print(teacher_2.counter) \n"
   ]
  },
  {
   "cell_type": "markdown",
   "metadata": {},
   "source": [
    "## Inheritance\n",
    "* Allows to inherit attributes and methods from another class"
   ]
  },
  {
   "cell_type": "markdown",
   "metadata": {},
   "source": [
    "### Example\n",
    "* Inheriting from a base class"
   ]
  },
  {
   "cell_type": "code",
   "execution_count": null,
   "metadata": {},
   "outputs": [],
   "source": [
    "class Animal():\n",
    "    def __init__(self, name, age) -> None:\n",
    "        self.name = name\n",
    "        self.age = age\n",
    "    \n",
    "    def speaking(self):\n",
    "        print(\"sound\")\n",
    "\n",
    "class Dog(Animal):\n",
    "    def __init__(self, name, age) -> None:\n",
    "        super().__init__(name, age)\n",
    "\n",
    "dog_1 : Dog = Dog(\"Tony\", 15)   # When we assign the value of child class followed by (), its constructor is called automatically\n",
    "\n",
    "dog_1.age"
   ]
  },
  {
   "cell_type": "markdown",
   "metadata": {},
   "source": [
    "### Example: Employee, Designer and Developer\n",
    "* Here we define an Employee class and two sub-classes, Designer and Developer"
   ]
  },
  {
   "cell_type": "code",
   "execution_count": null,
   "metadata": {},
   "outputs": [],
   "source": [
    "class Employee():\n",
    "    def __init__(self, name, age, department) -> None:\n",
    "        self.name = name\n",
    "        self.age = age\n",
    "        self.department = department\n",
    "\n",
    "    def display_info(self):\n",
    "        print(f\"Name: {self.name}, Age: {self.age}, Department: {self.department}\")\n",
    "\n",
    "# employee_1 : Employee = Employee(\"Akram\", 15, \"Coding\")\n",
    "# employee_1.display_info()"
   ]
  },
  {
   "cell_type": "markdown",
   "metadata": {},
   "source": [
    "### Sub-Class designer"
   ]
  },
  {
   "cell_type": "code",
   "execution_count": null,
   "metadata": {},
   "outputs": [],
   "source": [
    "class Designer(Employee):\n",
    "    def __init__(self, name, age, department, tool) -> None:\n",
    "        super().__init__(name, age, department)\n",
    "\n",
    "        self.tool = tool\n",
    "\n",
    "    def display_info(self):\n",
    "        super().display_info()\n",
    "        print(f\"Design tool: {self.tool}\")\n",
    "\n",
    "designer_1 : Designer = Designer(\"Asif\", 25, \"Designing\", \"Figma-UI\")\n",
    "\n",
    "designer_1.display_info()"
   ]
  },
  {
   "cell_type": "markdown",
   "metadata": {},
   "source": [
    "### Sub-Class Developer"
   ]
  },
  {
   "cell_type": "code",
   "execution_count": null,
   "metadata": {},
   "outputs": [],
   "source": [
    "class Developer(Employee):\n",
    "    def __init__(self, name, age, department, language) -> None:\n",
    "        super().__init__(name, age, department)\n",
    "\n",
    "        self.language = language\n",
    "\n",
    "    def display_info(self):\n",
    "        super().display_info()\n",
    "        print(f\"Programming language: {self.language}\")\n",
    "\n",
    "developer_1 : Developer = Developer(\"Adil\", 35, \"Development\", \"Java-Script\")\n",
    "\n",
    "developer_1.display_info()"
   ]
  },
  {
   "cell_type": "markdown",
   "metadata": {},
   "source": []
  }
 ],
 "metadata": {
  "kernelspec": {
   "display_name": "python12",
   "language": "python",
   "name": "python3"
  },
  "language_info": {
   "codemirror_mode": {
    "name": "ipython",
    "version": 3
   },
   "file_extension": ".py",
   "mimetype": "text/x-python",
   "name": "python",
   "nbconvert_exporter": "python",
   "pygments_lexer": "ipython3",
   "version": "3.12.0"
  }
 },
 "nbformat": 4,
 "nbformat_minor": 2
}
