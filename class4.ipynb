{
 "cells": [
  {
   "cell_type": "markdown",
   "metadata": {},
   "source": [
    "# Python Help\n",
    "* We can take help from Python about any method by following ways\n",
    "* help(object)\n",
    "* object?\n",
    "* object??\n",
    "* ?object\n",
    "* ??object"
   ]
  },
  {
   "cell_type": "markdown",
   "metadata": {},
   "source": [
    "# Lists\n",
    "* A list in Python is an ordered collection of items. Lists can contain a mix of different data types, including numbers, strings, and other lists. Lists are created by placing the items inside square brackets [], separated by commas."
   ]
  },
  {
   "cell_type": "markdown",
   "metadata": {},
   "source": [
    "## Indexing\n",
    "* Positive Indexing: starts from beginning of the list\n",
    "* Negative Indexing: start from end of the list"
   ]
  },
  {
   "cell_type": "code",
   "execution_count": null,
   "metadata": {},
   "outputs": [],
   "source": [
    "from typing import Union\n",
    "\n",
    "fruits: list[Union[str, int, bool]] = [\"Apple\", \"Cherry\", \"Mango\", \"Banana\", True, 20]\n",
    "\n",
    "print(fruits)               # prints complete list\n",
    "print(fruits[0])            # prints the item at zero index\n",
    "print(fruits[1])            # prints the item at first index\n",
    "\n",
    "print(fruits[-1])           # prints the item at last index"
   ]
  },
  {
   "cell_type": "markdown",
   "metadata": {},
   "source": [
    "## List Methods\n",
    "* Python lists come with a set of built-in methods:\n",
    "\n",
    "* append(): Adds an element to the end of the list.\n",
    "* clear(): Removes all elements from the list.\n",
    "* copy(): Returns a copy of the list.\n",
    "* count(): Returns the number of elements with the specified value.\n",
    "* extend(): Adds elements from another list (or any iterable) to the current list.\n",
    "* index(): Returns the index of the first element with the specified value.\n",
    "* insert(): Adds an element at a specified position.\n",
    "* pop(): Removes the element at a specified position.\n",
    "* remove(): Removes the first item with the specified value.\n",
    "* reverse(): Reverses the order of the list.\n",
    "* sort(): Sorts the list.\n",
    "\n",
    "** For more details and examples on each method, refer to the official Python documentation."
   ]
  },
  {
   "cell_type": "markdown",
   "metadata": {},
   "source": [
    "## Slicing\n",
    "* Allows to get a sub-set of a list. \n",
    "* list[start : stop : step]"
   ]
  },
  {
   "cell_type": "code",
   "execution_count": null,
   "metadata": {},
   "outputs": [],
   "source": [
    "fruits[1 : 3]       # index : 1 will be inclusive, index : 3 will be exclusive"
   ]
  },
  {
   "cell_type": "code",
   "execution_count": null,
   "metadata": {},
   "outputs": [],
   "source": [
    "# To make list of characters we apply list() method\n",
    "characters : list[str] = list(\"ABCDEFGHIJKLMNOPQRSTUVWXYZ\")\n",
    "print(characters)"
   ]
  },
  {
   "cell_type": "code",
   "execution_count": 8,
   "metadata": {},
   "outputs": [
    {
     "name": "stdout",
     "output_type": "stream",
     "text": [
      "['i', 'm', 'r', 'a', 'n', 'a', 'l', 'i']\n"
     ]
    }
   ],
   "source": [
    "name: list[str] = list(\"imranali\")\n",
    "print(name)"
   ]
  },
  {
   "cell_type": "code",
   "execution_count": 9,
   "metadata": {},
   "outputs": [
    {
     "name": "stdout",
     "output_type": "stream",
     "text": [
      "['A', 'B']\n",
      "['A', 'B']\n",
      "['A', 'B']\n",
      "['A', 'C', 'E']\n",
      "['A', 'C', 'E', 'G', 'I', 'K', 'M', 'O', 'Q', 'S', 'U', 'W', 'Y']\n"
     ]
    }
   ],
   "source": [
    "characters: list[str] = ['A', 'B', 'C', 'D', 'E', 'F', 'G', 'H', 'I', 'J', 'K', 'L', 'M', 'N', 'O', 'P', 'Q', 'R', 'S', 'T', 'U', 'V', 'W', 'X', 'Y', 'Z']\n",
    "\n",
    "# By default slicing goes from left to right\n",
    "\n",
    "print(characters[0 : 2])\n",
    "print(characters[ : 2])\n",
    "print(characters[-26 : -24])\n",
    "\n",
    "print(characters[0 : 6 : 2])\n",
    "\n",
    "print(characters[ :  : 2])\n"
   ]
  },
  {
   "cell_type": "code",
   "execution_count": null,
   "metadata": {},
   "outputs": [],
   "source": [
    "                        # 0    1    2    3    4    5    6    7    8\n",
    "characters: list[str] = ['A', 'B', 'C', 'D', 'E', 'F', 'G', 'H', 'I']\n",
    "                        # -9  -8   -7   -6   -5   -4   -3   -2   -1\n",
    "\n",
    "print(characters[1 : -3])"
   ]
  },
  {
   "cell_type": "code",
   "execution_count": 15,
   "metadata": {},
   "outputs": [
    {
     "name": "stdout",
     "output_type": "stream",
     "text": [
      "[]\n"
     ]
    }
   ],
   "source": [
    "                        # 0    1    2    3    4    5    6    7    8\n",
    "characters: list[str] = ['A', 'B', 'C', 'D', 'E', 'F', 'G', 'H', 'I']\n",
    "                        # -9  -8   -7   -6   -5   -4   -3   -2   -1\n",
    "\n",
    "print(characters[-2 : -5])  # results in empty [] because slicing goes from left to right only\n",
    "print(characters[5 : 2])"
   ]
  },
  {
   "cell_type": "code",
   "execution_count": 17,
   "metadata": {},
   "outputs": [
    {
     "name": "stdout",
     "output_type": "stream",
     "text": [
      "[]\n"
     ]
    }
   ],
   "source": [
    "                        # 0    1    2    3    4    5    6    7    8\n",
    "characters: list[str] = ['A', 'B', 'C', 'D', 'E', 'F', 'G', 'H', 'I']\n",
    "                        # -9  -8   -7   -6   -5   -4   -3   -2   -1\n",
    "\n",
    "print(characters[-2 : -5 : -1])"
   ]
  },
  {
   "cell_type": "code",
   "execution_count": null,
   "metadata": {},
   "outputs": [],
   "source": [
    "characters: list[str] = ['A', 'B', 'C', 'D', 'E', 'F', 'G', 'H', 'I', 'J', 'K', 'L', 'M', 'N', 'O', 'P', 'Q', 'R', 'S', 'T', 'U', 'V', 'W', 'X', 'Y', 'Z']\n",
    "\n",
    "print(characters[ : : -1])"
   ]
  },
  {
   "cell_type": "markdown",
   "metadata": {},
   "source": [
    "# Deleting items from Lists"
   ]
  },
  {
   "cell_type": "code",
   "execution_count": null,
   "metadata": {},
   "outputs": [],
   "source": [
    "# We can delete any item from a list by using \"del\" keyword\n",
    "# But we can't assign the deleted item to a variable for further ues.\n",
    "\n",
    "names: list[str] = [\"Ali\", \"Imran\", \"Usama\", \"Alex\"]\n",
    "del names[2]\n",
    "# we can't write it like below\n",
    "# a : str = names.del[1]\n",
    "print(names)"
   ]
  },
  {
   "cell_type": "code",
   "execution_count": null,
   "metadata": {},
   "outputs": [],
   "source": [
    "# pop() method can be used to remove the last item from a list\n",
    "# By default is will remove the last item of the list\n",
    "# But we can remove any item by specifying its index number like pop(0)\n",
    "# items removed by pop method can be stored in a variable for future use\n",
    "# pop() is a return method because it returns the popped values and is called by using \".\" at the end of list name\n",
    "\n",
    "names: list[str] = [\"Ali\", \"Imran\", \"Usama\", \"Alex\"]\n",
    "print(names)\n",
    "\n",
    "name_1: str = names.pop(2)\n",
    "print(name_1)\n",
    "print(names)"
   ]
  },
  {
   "cell_type": "code",
   "execution_count": 11,
   "metadata": {},
   "outputs": [
    {
     "name": "stdout",
     "output_type": "stream",
     "text": [
      "None\n"
     ]
    }
   ],
   "source": [
    "# To delete an item by using its value, we use remove() method\n",
    "# remove() is a non return method\n",
    "names: list[str] = [\"Ali\", \"Imran\", \"Usama\", \"Alex\"]\n",
    "print(names)\n",
    "names.remove(\"Ali\")\n",
    "print(names)"
   ]
  },
  {
   "cell_type": "code",
   "execution_count": null,
   "metadata": {},
   "outputs": [],
   "source": [
    "names: list[str] = [\"Ali\", \"Imran\", \"Usama\", \"Alex\"]\n",
    "del names    # will delete the complete object from the memory \n",
    "print(names)"
   ]
  },
  {
   "cell_type": "code",
   "execution_count": 17,
   "metadata": {},
   "outputs": [
    {
     "name": "stdout",
     "output_type": "stream",
     "text": [
      "[]\n"
     ]
    }
   ],
   "source": [
    "names: list[str] = [\"Ali\", \"Imran\", \"Usama\", \"Alex\"]\n",
    "names.clear()    # deletes all the items but the object is remained\n",
    "print(names)"
   ]
  },
  {
   "cell_type": "markdown",
   "metadata": {},
   "source": [
    "# Adding items in Lists"
   ]
  },
  {
   "cell_type": "code",
   "execution_count": 22,
   "metadata": {},
   "outputs": [
    {
     "name": "stdout",
     "output_type": "stream",
     "text": [
      "['ALi', 'Hamza']\n",
      "['Ali', 'Hamid', 'Imran', 'Usama', 'Alex']\n"
     ]
    }
   ],
   "source": [
    "# Append() method is used to insert items at the end of a list\n",
    "names : list[str] = []\n",
    "names.append(\"ALi\")\n",
    "names.append(\"Hamza\")\n",
    "print(names)\n",
    "\n",
    "# To add the item at a desired index we used insert() method\n",
    "# insert() must takes two arguments first one is the index number where we want to insert an item and second is the item itself\n",
    "names: list[str] = [\"Ali\", \"Imran\", \"Usama\", \"Alex\"]\n",
    "names.insert(1, \"Hamid\")\n",
    "print(names)"
   ]
  },
  {
   "cell_type": "markdown",
   "metadata": {},
   "source": [
    "# Assigning a list to another list"
   ]
  },
  {
   "cell_type": "code",
   "execution_count": 23,
   "metadata": {},
   "outputs": [
    {
     "name": "stdout",
     "output_type": "stream",
     "text": [
      "['ABC', 'DEF', 'GHI']\n",
      "['ABC', 'DEF', 'GHI']\n",
      "['Li', 'ABC', 'DEF', 'GHI']\n",
      "['Li', 'ABC', 'DEF', 'GHI']\n"
     ]
    }
   ],
   "source": [
    "a : list[str] = [\"ABC\", \"DEF\", \"GHI\"]\n",
    "\n",
    "b = a\n",
    "print(a)\n",
    "print(b)\n",
    "\n",
    "# but if we add an item to \"b\" it will also be added to \"a\"\n",
    "b.insert(0, \"Li\")\n",
    "\n",
    "print(a)\n",
    "print(b)\n",
    "\n",
    "# We can use copy() method to add items to only \"b\". Now if we add an item in list \"b\" it will not be added to list \"a\"\n",
    "\n",
    "b = a.copy()"
   ]
  },
  {
   "cell_type": "code",
   "execution_count": null,
   "metadata": {},
   "outputs": [],
   "source": [
    "# count()  is used to find the cont of an item in a list.\n",
    "# It takes the value of the item to be counted as an argument.\n",
    "\n",
    "a : list[str] = [\"ABC\", \"DEF\", \"GHI\"]\n",
    "print(a.count(\"ABC\"))"
   ]
  },
  {
   "cell_type": "code",
   "execution_count": 26,
   "metadata": {},
   "outputs": [
    {
     "name": "stdout",
     "output_type": "stream",
     "text": [
      "['Ali', 'Qasim', 'Hasan', ['Lisa', 'Alex']]\n"
     ]
    }
   ],
   "source": [
    "names : list[str] = [\"Ali\", \"Qasim\", \"Hasan\"]\n",
    "new_names : list[str] = [\"Lisa\", \"Alex\"]\n",
    "\n",
    "names.append(new_names)     # append() will add the new_names as a list in the end of the names list\n",
    "print(names)"
   ]
  },
  {
   "cell_type": "markdown",
   "metadata": {},
   "source": [
    "# Finding index of an item"
   ]
  },
  {
   "cell_type": "code",
   "execution_count": null,
   "metadata": {},
   "outputs": [],
   "source": [
    "# index() is used to find index of an item in a list\n",
    "# if an item occurs more than once, index of only first occurrence will be provided\n",
    "# if we want to find the index of any occurrence after first one, we will provide the number of occurrence whose index is required\n",
    "\n",
    "names : list[str] = [\"Ali\", \"Qasim\", \"Hasan\", \"Ali\"]\n",
    "\n",
    "print(names.index(\"Ali\"))\n",
    "print(names.index(\"Ali\", 2))"
   ]
  },
  {
   "cell_type": "markdown",
   "metadata": {},
   "source": [
    "# Reversing the elements of a list"
   ]
  },
  {
   "cell_type": "code",
   "execution_count": null,
   "metadata": {},
   "outputs": [],
   "source": [
    "# reverse() is used to reverse the order of elements in a list\n",
    "# reverse() makes the \"in-memory change\", i.e. order of original list is reversed\n",
    "\n",
    "# alphs: list[str] = list(\"ABCDEFGH\")\n",
    "# print(alphs)\n",
    "\n",
    "alphabets: list[str] = ['A', 'B', 'C', 'D', 'E', 'F', 'G', 'H']\n",
    "print(alphabets)\n",
    "\n",
    "alphabets.reverse()\n",
    "print(alphabets)"
   ]
  },
  {
   "cell_type": "code",
   "execution_count": null,
   "metadata": {},
   "outputs": [],
   "source": [
    "# sort() is used to sort data in ascending order\n",
    "# it also makes \"in-memory\" change\n",
    "\n",
    "alphabets: list[str] = ['A', 'B', 'C', 'D', 'E', 'F', 'G', 'H']\n",
    "alphabets.sort()\n",
    "print(alphabets)\n",
    "\n",
    "alphabets.sort(reverse=True)      # to sort the list in reverse order\n",
    "print(alphabets)\n"
   ]
  }
 ],
 "metadata": {
  "kernelspec": {
   "display_name": "python12",
   "language": "python",
   "name": "python3"
  },
  "language_info": {
   "codemirror_mode": {
    "name": "ipython",
    "version": 3
   },
   "file_extension": ".py",
   "mimetype": "text/x-python",
   "name": "python",
   "nbconvert_exporter": "python",
   "pygments_lexer": "ipython3",
   "version": "3.12.0"
  }
 },
 "nbformat": 4,
 "nbformat_minor": 2
}
