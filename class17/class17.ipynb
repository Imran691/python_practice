{
 "cells": [
  {
   "cell_type": "markdown",
   "metadata": {},
   "source": [
    "# Pandas\n",
    "* Pandera: used for static types declaration\n",
    "\n",
    "## Pandas core components\n",
    "* Series: rows & columns\n",
    "* DataFrame: tabular data (as in excel sheet), consists of series (rows & columns)\n"
   ]
  },
  {
   "cell_type": "code",
   "execution_count": null,
   "metadata": {},
   "outputs": [],
   "source": [
    "%pip install pandera"
   ]
  },
  {
   "cell_type": "code",
   "execution_count": null,
   "metadata": {},
   "outputs": [],
   "source": [
    "import pandas as pd # pd: panda's data frame\n",
    "import pandera as pa"
   ]
  },
  {
   "cell_type": "markdown",
   "metadata": {},
   "source": [
    "## Series()\n",
    "* Single row or column is called Series\n",
    "* used to create series from given data types"
   ]
  },
  {
   "cell_type": "code",
   "execution_count": null,
   "metadata": {},
   "outputs": [],
   "source": [
    "import pandas as pd\n",
    "\n",
    "s1 : pd.Series = pd.Series([1,2,3,4,5])     # list data type can be used to create series\n",
    "s1                                          # series shows tha values, their index numbers as well as data type"
   ]
  },
  {
   "cell_type": "code",
   "execution_count": null,
   "metadata": {},
   "outputs": [],
   "source": [
    "import pandas as pd\n",
    "\n",
    "s1 : pd.Series = pd.Series((1,2,3,4,5))     # Tuple data type can be used to create series\n",
    "s1"
   ]
  },
  {
   "cell_type": "code",
   "execution_count": null,
   "metadata": {},
   "outputs": [],
   "source": [
    "import pandas as pd\n",
    "\n",
    "s1 : pd.Series = pd.Series({1,2,3,4,5})     # Set data type can not be used to create series\n",
    "s1"
   ]
  },
  {
   "cell_type": "code",
   "execution_count": null,
   "metadata": {},
   "outputs": [],
   "source": [
    "import pandas as pd\n",
    "\n",
    "# Dictionary data type can be used to create series\n",
    "\n",
    "# keys: will become indexes\n",
    "# values: will be the values\n",
    "\n",
    "# lists will get default index numbers, starting from 0\n",
    "# dictionaries can be assigned custom index numbers, in the form of keys\n",
    "\n",
    "s1 : pd.Series = pd.Series({'a': 10,        \n",
    "                            'b': 20,\n",
    "                            'c': 30,\n",
    "                            'd': 40,\n",
    "                            'e': 50,})     \n",
    "s1"
   ]
  },
  {
   "cell_type": "markdown",
   "metadata": {},
   "source": [
    "### Creating Series from lists"
   ]
  },
  {
   "cell_type": "code",
   "execution_count": null,
   "metadata": {},
   "outputs": [],
   "source": [
    "values: list[int] = [1,2,3,4,5]\n",
    "index1: list[str] = ['a', 'b', 'c', 'd', 'e']\n",
    "\n",
    "# length of values & indexes must be the same\n",
    "s1: pd.Series = pd.Series(values, index = index1)\n",
    "s1"
   ]
  },
  {
   "cell_type": "markdown",
   "metadata": {},
   "source": [
    "### Multi index Series\n",
    "* we need to create list of lists for multi indexing"
   ]
  },
  {
   "cell_type": "code",
   "execution_count": null,
   "metadata": {},
   "outputs": [],
   "source": [
    "values: list[int] = [1,2,3,4,5]\n",
    "index1: list[list[str]] = [['a1','a1', 'a1', 'b1', 'b1'],\n",
    "                           ['a', 'b', 'c', 'd', 'e']]\n",
    "\n",
    "s1: pd.Series = pd.Series(values, index = index1)\n",
    "s1"
   ]
  },
  {
   "cell_type": "markdown",
   "metadata": {},
   "source": [
    "## DataFrame\n",
    "* Multiple rows & columns (multiple series)"
   ]
  },
  {
   "cell_type": "code",
   "execution_count": null,
   "metadata": {},
   "outputs": [],
   "source": [
    "s1: pd.Series = pd.Series([1,2,3,4,5])\n",
    "s2: pd.Series = pd.Series([10,20,30,40,50])\n",
    "s3: pd.Series = pd.Series([\"ALi\", \"Li\", \"Lisa\", \"Jack\", \"Jony\"])\n",
    "\n",
    "# key\n",
    "# value: iterable\n",
    "# length of all series must be the same\n",
    "df1: pd.DataFrame = pd.DataFrame({'student id': s1, 'score': s2, 'student name': s3})\n",
    "df1"
   ]
  },
  {
   "cell_type": "code",
   "execution_count": null,
   "metadata": {},
   "outputs": [],
   "source": [
    "s1: pd.Series = pd.Series([1,2,3,4,5], name = \"student id\")\n",
    "s2: pd.Series = pd.Series([10,20,30,40,50], name = \"score\")\n",
    "s3: pd.Series = pd.Series([\"ALi\", \"Li\", \"Lisa\", \"Jack\", \"Jony\"], name = \"student name\")\n",
    "\n",
    "df1: pd.DataFrame = pd.DataFrame({'student id': s1, 'score': s2, 'student name': s3})# data being passed in the form of dictionary\n",
    "df1"
   ]
  },
  {
   "cell_type": "code",
   "execution_count": null,
   "metadata": {},
   "outputs": [],
   "source": [
    "s1: pd.Series = pd.Series([1,2,3,4,5], name = \"student id\")\n",
    "s2: pd.Series = pd.Series([10,20,30,40,50], name = \"score\")\n",
    "s3: pd.Series = pd.Series([\"ALi\", \"Li\", \"Lisa\", \"Jack\", \"Jony\"], name = \"student name\")\n",
    "\n",
    "df1: pd.DataFrame = pd.concat([s1,s2,s3], axis=1)\n",
    "df1"
   ]
  },
  {
   "cell_type": "markdown",
   "metadata": {},
   "source": [
    "### Index & Columns in DataFrame"
   ]
  },
  {
   "cell_type": "code",
   "execution_count": null,
   "metadata": {},
   "outputs": [],
   "source": [
    "data : list[list[int]] = [[1,2,3],\n",
    "                          [4,5,6],\n",
    "                          [7,8,9]]\n",
    "\n",
    "# index and column numbers will be default(starting from zero to onward)\n",
    "df: pd.DataFrame = pd.DataFrame(data)   \n",
    "df"
   ]
  },
  {
   "cell_type": "code",
   "execution_count": null,
   "metadata": {},
   "outputs": [],
   "source": [
    "data : list[list[int]] = [[1,2,3],\n",
    "                          [4,5,6],\n",
    "                          [7,8,9]]\n",
    "\n",
    "# index will be x,y,z\n",
    "# columns will be default\n",
    "df: pd.DataFrame = pd.DataFrame(data, index=['x','y','z'])\n",
    "df"
   ]
  },
  {
   "cell_type": "code",
   "execution_count": 35,
   "metadata": {},
   "outputs": [
    {
     "data": {
      "text/html": [
       "<div>\n",
       "<style scoped>\n",
       "    .dataframe tbody tr th:only-of-type {\n",
       "        vertical-align: middle;\n",
       "    }\n",
       "\n",
       "    .dataframe tbody tr th {\n",
       "        vertical-align: top;\n",
       "    }\n",
       "\n",
       "    .dataframe thead th {\n",
       "        text-align: right;\n",
       "    }\n",
       "</style>\n",
       "<table border=\"1\" class=\"dataframe\">\n",
       "  <thead>\n",
       "    <tr style=\"text-align: right;\">\n",
       "      <th></th>\n",
       "      <th>A</th>\n",
       "      <th>B</th>\n",
       "      <th>C</th>\n",
       "    </tr>\n",
       "  </thead>\n",
       "  <tbody>\n",
       "    <tr>\n",
       "      <th>x</th>\n",
       "      <td>1</td>\n",
       "      <td>2</td>\n",
       "      <td>3</td>\n",
       "    </tr>\n",
       "    <tr>\n",
       "      <th>y</th>\n",
       "      <td>4</td>\n",
       "      <td>5</td>\n",
       "      <td>6</td>\n",
       "    </tr>\n",
       "    <tr>\n",
       "      <th>z</th>\n",
       "      <td>7</td>\n",
       "      <td>8</td>\n",
       "      <td>9</td>\n",
       "    </tr>\n",
       "  </tbody>\n",
       "</table>\n",
       "</div>"
      ],
      "text/plain": [
       "   A  B  C\n",
       "x  1  2  3\n",
       "y  4  5  6\n",
       "z  7  8  9"
      ]
     },
     "execution_count": 35,
     "metadata": {},
     "output_type": "execute_result"
    }
   ],
   "source": [
    "data : list[list[int]] = [[1,2,3],\n",
    "                          [4,5,6],\n",
    "                          [7,8,9]]\n",
    "\n",
    "# index will be x,y,z\n",
    "# columns will be A,B,C\n",
    "df: pd.DataFrame = pd.DataFrame(data, index=['x','y','z'], columns=['A', 'B', 'C'])\n",
    "df"
   ]
  },
  {
   "cell_type": "code",
   "execution_count": null,
   "metadata": {},
   "outputs": [],
   "source": [
    "# read and process data from web pages\n",
    "# We can read different types of data with \"pd.read_\"\n",
    "import pandas as pd\n",
    "\n",
    "dfl: list[pd.DataFrame] = pd.read_html(\"https://www.w3schools.com/python/python_operators.asp\")\n",
    "dfl         # to read all tables on the page\n",
    "# df1[0]    # to read the table at 0 index"
   ]
  },
  {
   "cell_type": "code",
   "execution_count": null,
   "metadata": {},
   "outputs": [],
   "source": [
    "pd.read_csv?"
   ]
  },
  {
   "cell_type": "markdown",
   "metadata": {},
   "source": [
    "# Slicing & indexing\n",
    "\n",
    "* series_variable[index]\n",
    "\n",
    "* dataFrame\n",
    "    * loc\n",
    "    * iloc\n",
    "    * at \n",
    "    * iat"
   ]
  },
  {
   "cell_type": "code",
   "execution_count": null,
   "metadata": {},
   "outputs": [],
   "source": [
    "s1: pd.Series = pd.Series([1,2,3,4,5])\n",
    "display(s1)\n",
    "\n",
    "display(s1[0])  # slicing by index number"
   ]
  },
  {
   "cell_type": "code",
   "execution_count": null,
   "metadata": {},
   "outputs": [],
   "source": [
    "display(s1[0:3])    # first index inclusive, second index exclusive"
   ]
  },
  {
   "cell_type": "code",
   "execution_count": null,
   "metadata": {},
   "outputs": [],
   "source": [
    "display(s1[0:4:2])  # starting index, ending index, step"
   ]
  },
  {
   "cell_type": "code",
   "execution_count": null,
   "metadata": {},
   "outputs": [],
   "source": [
    "display(s1.iloc[1:3])   # index location"
   ]
  },
  {
   "cell_type": "code",
   "execution_count": null,
   "metadata": {},
   "outputs": [],
   "source": [
    "s1: pd.Series = pd.Series([1,2,3,4,5], index = ['a', 'b', 'c', 'd', 'e'])\n",
    "# display(s1)\n",
    "\n",
    "display(s1.iloc[2:3])  # slicing by numerical indexing"
   ]
  },
  {
   "cell_type": "code",
   "execution_count": null,
   "metadata": {},
   "outputs": [],
   "source": [
    "s1: pd.Series = pd.Series([1,2,3,4,5], index = ['a', 'b', 'c', 'd', 'e'])\n",
    "# display(s1)\n",
    "\n",
    "display(s1.loc['b':'d'])  # index location (label), end included"
   ]
  },
  {
   "cell_type": "code",
   "execution_count": null,
   "metadata": {},
   "outputs": [],
   "source": [
    "s1: pd.Series = pd.Series([1,2,3,4,5], index = ['a', 'b', 'c', 'd', 'e'])\n",
    "# display(s1)\n",
    "\n",
    "display(s1.iat[2])  # index location (number), extract value of one particular cell, we can update the value of cell too"
   ]
  },
  {
   "cell_type": "code",
   "execution_count": null,
   "metadata": {},
   "outputs": [],
   "source": [
    "s1: pd.Series = pd.Series([1,2,3,4,5], index = ['a', 'b', 'c', 'd', 'e'])\n",
    "# display(s1)\n",
    "\n",
    "display(s1.at['b'])  # index location (label), extract value of one particular cell, we can update the value of cell too"
   ]
  }
 ],
 "metadata": {
  "kernelspec": {
   "display_name": "python12",
   "language": "python",
   "name": "python3"
  },
  "language_info": {
   "codemirror_mode": {
    "name": "ipython",
    "version": 3
   },
   "file_extension": ".py",
   "mimetype": "text/x-python",
   "name": "python",
   "nbconvert_exporter": "python",
   "pygments_lexer": "ipython3",
   "version": "3.12.0"
  }
 },
 "nbformat": 4,
 "nbformat_minor": 2
}
