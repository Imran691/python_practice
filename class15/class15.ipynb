{
 "cells": [
  {
   "cell_type": "markdown",
   "metadata": {},
   "source": [
    "## Callable (objects)\n",
    "* If we check the methods that can be applied to an object by using dir(object), if it includes default __call__ method, it means that it is a callable object\n",
    "* Callable objects can be called like functions, i.e. by using () immediately after the object name."
   ]
  },
  {
   "cell_type": "code",
   "execution_count": null,
   "metadata": {},
   "outputs": [],
   "source": [
    "dir(abs)"
   ]
  },
  {
   "cell_type": "code",
   "execution_count": null,
   "metadata": {},
   "outputs": [],
   "source": [
    "def greet():\n",
    "    print(\"Hello World\")\n",
    "\n",
    "print(dir(greet)) # result contains default __call__ method\n",
    "\n",
    "greet()\n",
    "greet.__call__()"
   ]
  },
  {
   "cell_type": "code",
   "execution_count": null,
   "metadata": {},
   "outputs": [],
   "source": [
    "class SampleClass():\n",
    "    def method(self):\n",
    "        print(\"You called method()!\")\n",
    "\n",
    "print(type(SampleClass)) # to check type of SampleClass. Result <class 'type'> means its type is class and base class of class is type"
   ]
  },
  {
   "cell_type": "code",
   "execution_count": null,
   "metadata": {},
   "outputs": [],
   "source": [
    "dir(type)   # contains default __call__ method; because type is also an object"
   ]
  },
  {
   "cell_type": "code",
   "execution_count": null,
   "metadata": {},
   "outputs": [],
   "source": [
    "sample_instance = SampleClass()\n",
    "dir(sample_instance.method)         # contains default __call__ method"
   ]
  },
  {
   "cell_type": "code",
   "execution_count": null,
   "metadata": {},
   "outputs": [],
   "source": [
    "# default __call__ method can be over written\n",
    "# means we can make our particular type that is not callable\n",
    "\n",
    "class NonCallable():\n",
    "    def __call__(self):\n",
    "        raise TypeError(\"Not really callable.\")\n",
    "    \n",
    "instance = NonCallable()\n",
    "callable(instance)    # to check if our instance is callable; it will result into true\n",
    "\n",
    "instance()      # but if we try to call it like a function, it will result into error"
   ]
  },
  {
   "cell_type": "code",
   "execution_count": null,
   "metadata": {},
   "outputs": [],
   "source": [
    "class PowerFactory():\n",
    "    def __init__(self, exponent = 2) -> None:\n",
    "        self.exponent = exponent\n",
    "    \n",
    "    def __call__(self, base):\n",
    "        return base**self.exponent\n",
    "    \n",
    "a : PowerFactory = PowerFactory()   # calling constructor by creating an instance of PowerFactory class\n",
    "a.exponent\n",
    "\n",
    "a(3)        # calling object like a function"
   ]
  },
  {
   "cell_type": "code",
   "execution_count": null,
   "metadata": {},
   "outputs": [],
   "source": [
    "# When we create an instance of an object, we call its methods\n",
    "# but if we use __call__, instance object can be called like a function directly\n",
    "# means, object name followed by (), directly calls __call__ method\n",
    "class CommutativeAverage():\n",
    "    def __init__(self) -> None:\n",
    "        self.data = []\n",
    "\n",
    "    def __call__(self, new_value):\n",
    "        self.data.append(new_value)\n",
    "        print(self.data)\n",
    "        return sum(self.data) / len(self.data)\n",
    "    \n",
    "my_average : CommutativeAverage = CommutativeAverage()\n",
    "\n",
    "print(my_average(12)) # calling instance object like a function; in this way we pass this value to callable function and it stores this value in data\n",
    "print(my_average(13))\n",
    "print(my_average(14))\n"
   ]
  },
  {
   "cell_type": "markdown",
   "metadata": {},
   "source": [
    "# Access modifiers\n",
    "### python has 3 types of members (attributes, methods)\n",
    "* public\n",
    "* protected: to make an attribute or method a protected, use single underscore _ before its name\n",
    "* private: to make an attribute or method a private, use double underscore __ before its name"
   ]
  },
  {
   "cell_type": "code",
   "execution_count": null,
   "metadata": {},
   "outputs": [],
   "source": [
    "class Piaic():\n",
    "    def __init__(self) -> None:\n",
    "        self.help_line: str = \"122\"                 # public\n",
    "        self._total_expanses: int = 654             # protected\n",
    "        self.__test_date: str = \"20, Nov. 2023\"     # private\n",
    "\n",
    "piaic : Piaic = Piaic()\n",
    "\n",
    "print(piaic.help_line)\n",
    "print(piaic._total_expanses)\n",
    "print(piaic.__test_date)"
   ]
  },
  {
   "cell_type": "code",
   "execution_count": null,
   "metadata": {},
   "outputs": [],
   "source": [
    "# public members can be modified\n",
    "\n",
    "piaic.help_line = \"012346789\"\n",
    "print(piaic.help_line)"
   ]
  },
  {
   "cell_type": "code",
   "execution_count": null,
   "metadata": {},
   "outputs": [],
   "source": [
    "# private members can be accessed by below syntax\n",
    "# object._class__member\n",
    "# it means that python is not pure object-oriented-programming\n",
    "\n",
    "piaic._Piaic__test_date"
   ]
  },
  {
   "cell_type": "markdown",
   "metadata": {},
   "source": [
    "# Encapsulation\n",
    "* we can create private members in classes\n",
    "* these private members can't be accessed or modified outside of the classes, i.e. directly through objects\n",
    "* but these can be accessed through our-defined public methods"
   ]
  },
  {
   "cell_type": "code",
   "execution_count": null,
   "metadata": {},
   "outputs": [],
   "source": [
    "class StudentLogin():\n",
    "    def __init__(self) -> None:\n",
    "        self.__username: str = \"admin\"      # private, and we assigned default value\n",
    "        self.__password: str = \"admin\"\n",
    "\n",
    "    def __dbconnectivity(self, username: str, password: str):\n",
    "        print(\"Successfully connected\")\n",
    "        if username == self.__username and password == self.__password:\n",
    "            return \"Valid user\"\n",
    "        else:\n",
    "            return \"Invalid user\"\n",
    "    \n",
    "    def update_password(self, password: str):   # method to update password\n",
    "        self.__password = password\n",
    "\n",
    "    def student_login(self, user: str, pass1: str):\n",
    "        message: str = self.__dbconnectivity(user, pass1)\n",
    "        print(message)\n",
    "\n",
    "    def display_information(self):\n",
    "        print(f\"Hello dear {self.__username} and password: {qasim.__password}\")\n",
    "\n",
    "qasim: StudentLogin = StudentLogin()\n",
    "\n",
    "print(qasim.display_information())"
   ]
  },
  {
   "cell_type": "code",
   "execution_count": null,
   "metadata": {},
   "outputs": [],
   "source": [
    "qasim.student_login(\"admin\", \"123\")"
   ]
  },
  {
   "cell_type": "code",
   "execution_count": null,
   "metadata": {},
   "outputs": [],
   "source": [
    "qasim.student_login(\"admin\", 'admin')"
   ]
  },
  {
   "cell_type": "code",
   "execution_count": null,
   "metadata": {},
   "outputs": [],
   "source": [
    "qasim.update_password(\"qasim123\")   # updating private member through public method\n",
    "qasim.display_information()"
   ]
  },
  {
   "cell_type": "markdown",
   "metadata": {},
   "source": [
    "# Abstract class\n",
    "* does not have real world objects\n",
    "* We can not create objects of abstract classes directly\n",
    "* used to make parent classes having common properties and inherited to children having specific properties"
   ]
  },
  {
   "cell_type": "code",
   "execution_count": 18,
   "metadata": {},
   "outputs": [
    {
     "name": "stdout",
     "output_type": "stream",
     "text": [
      "True\n",
      "Cat is eating mouse.\n"
     ]
    }
   ],
   "source": [
    "from abc import ABC, abstractmethod        # Abstract Base Classes\n",
    "\n",
    "class Animal(ABC):          # to make a class abstract, we have to make ABC it's parent class\n",
    "    @abstractmethod\n",
    "    def __init__(self) -> None:\n",
    "        super().__init__()\n",
    "        self.living_thing: bool = True\n",
    "\n",
    "    @abstractmethod\n",
    "    def eat(self, food: str):\n",
    "        ...                     # signature defined\n",
    "\n",
    "class Cat(Animal):              # abstract class being passed as parent class\n",
    "    def __init__(self, food:str) -> None:\n",
    "        super().__init__()\n",
    "        self.food: str = food\n",
    "    \n",
    "    def eat(self, food: str):   # implementation of signature\n",
    "        return f\"Cat is eating {food}.\"\n",
    "\n",
    "mano: Cat = Cat(\"meat\")\n",
    "\n",
    "print(mano.living_thing)\n",
    "\n",
    "print(mano.eat(\"mouse\"))"
   ]
  }
 ],
 "metadata": {
  "kernelspec": {
   "display_name": "python12",
   "language": "python",
   "name": "python3"
  },
  "language_info": {
   "codemirror_mode": {
    "name": "ipython",
    "version": 3
   },
   "file_extension": ".py",
   "mimetype": "text/x-python",
   "name": "python",
   "nbconvert_exporter": "python",
   "pygments_lexer": "ipython3",
   "version": "3.12.0"
  }
 },
 "nbformat": 4,
 "nbformat_minor": 2
}
