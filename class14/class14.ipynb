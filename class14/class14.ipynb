{
 "cells": [
  {
   "cell_type": "markdown",
   "metadata": {},
   "source": [
    "# Multiple Inheritances\n",
    "* Allows a child class to inherit from more than one parent classes"
   ]
  },
  {
   "cell_type": "code",
   "execution_count": null,
   "metadata": {},
   "outputs": [],
   "source": [
    "class Mother():\n",
    "    def __init__(self, name: str) -> None:\n",
    "        self.name : str = name\n",
    "        self.eye_color : str = \"blue\"\n",
    "    \n",
    "    def speaking(self, words: str) -> str:\n",
    "        return f\"{self.name} is speaking {words}.\"\n",
    "\n",
    "class Father():\n",
    "    def __init__(self, name: str) -> None:\n",
    "        self.name : str = name\n",
    "        self.height : str = \"6-feet\"\n",
    "    \n",
    "    def teaching(self, subject : str) -> str:\n",
    "        return f\"{self.name} is teaching {subject}.\"\n",
    "\n",
    "class Child(Mother, Father):\n",
    "    def __init__(self, mother_name: str, father_name: str, child_name: str) -> None:\n",
    "        Mother.__init__(self, mother_name)      # To call the constructor of parent class\n",
    "        Father.__init__(self, father_name)      # We use call super() method only when we inherit from single parent class\n",
    "        self.child_name = child_name\n",
    "\n",
    "child_1 : Child = Child(\"Beenish\", \"Qasim\", \"Ali\")\n",
    "\n",
    "\n",
    "print(f\"Child's height is {child_1.height}.\")\n",
    "\n",
    "print(child_1.speaking(\"Hello\"))\n",
    "print(child_1.teaching(\"Hello World\"))"
   ]
  },
  {
   "cell_type": "code",
   "execution_count": null,
   "metadata": {},
   "outputs": [],
   "source": [
    "dir(child_1)        # To check applicable methods of child_1"
   ]
  },
  {
   "cell_type": "markdown",
   "metadata": {},
   "source": [
    "# Function Overloading with @overload Decorator\n",
    "* Allows defining multiple versions of a function with different types parameters\n",
    "* Multiples functions with the same name"
   ]
  },
  {
   "cell_type": "code",
   "execution_count": null,
   "metadata": {},
   "outputs": [],
   "source": [
    "from typing import Union, overload\n",
    "\n",
    "# first two defs are signatures and the last one is called implementation\n",
    "# signatures and implementation are having the same name\n",
    "\n",
    "@overload\n",
    "def add(x: int, y: int) -> int:\n",
    "    ...                                                 # signature\n",
    "\n",
    "@overload\n",
    "def add(x: float, y: float) -> float:\n",
    "    ...                                                 # signature\n",
    "\n",
    "def add(x: Union[int, float], y: Union[int, float]):\n",
    "    return x+y                                          # implementation\n",
    "\n",
    "print(add(5, 9))\n",
    "print(add(3.2, 4.6))"
   ]
  },
  {
   "cell_type": "markdown",
   "metadata": {},
   "source": [
    "# Method overloading with @overload Decorator\n",
    "* Method overloading is similar to function overloading"
   ]
  },
  {
   "cell_type": "code",
   "execution_count": null,
   "metadata": {},
   "outputs": [],
   "source": [
    "from typing import overload\n",
    "\n",
    "class Calculator:\n",
    "    @overload\n",
    "    def add(self, x: int, y: int) -> int:\n",
    "        ...\n",
    "\n",
    "    @overload\n",
    "    def add(self, x: float, y: float) -> float:\n",
    "        ...\n",
    "\n",
    "    def add(self, x, y):\n",
    "        return x+y\n",
    "    \n",
    "calc : Calculator = Calculator()\n",
    "\n",
    "print(calc.add(3, 6))\n",
    "print(calc.add(6.4, 2.1))"
   ]
  },
  {
   "cell_type": "markdown",
   "metadata": {},
   "source": [
    "# Polymorphism\n",
    "* The ability of different classes to respond to the same message (method call) in different ways. This allows for code to work with objects of various classes as if they were objects of a common superclass."
   ]
  },
  {
   "cell_type": "markdown",
   "metadata": {},
   "source": [
    "### Method Over-riding\n",
    "* over-riding is a base technology to achieve Polymorphism\n",
    "* in child class we over-ride the method of parent class"
   ]
  },
  {
   "cell_type": "code",
   "execution_count": 6,
   "metadata": {},
   "outputs": [
    {
     "name": "stdout",
     "output_type": "stream",
     "text": [
      "Dog is barking.\n"
     ]
    }
   ],
   "source": [
    "class Animal():\n",
    "    def speak(self) -> str:\n",
    "        return \"Some generic animal sound\"\n",
    "    \n",
    "class Dog(Animal):\n",
    "    def speak(self) -> str:         # speak() method is being over rode\n",
    "        return \"Dog is barking.\"\n",
    "    \n",
    "dog : Dog = Dog()\n",
    "print(dog.speak())\n",
    "\n",
    "dog : Dog = Animal()  # Not allowed because \"Dog\" is a child of \"Animal\" class     \n",
    "\n",
    "# Polymorphism\n",
    "\n",
    "dog_1 : Animal = Dog()  \n",
    "# \"Animal\" class is parent of \"Dog\" class, so assigning the Animal class to instance and calling constructor of child class (Dog) is allowed.\n",
    "# We can assign the parent class to instance of child class"
   ]
  },
  {
   "cell_type": "code",
   "execution_count": null,
   "metadata": {},
   "outputs": [],
   "source": [
    "class Animal():\n",
    "    def eating(self, food: str) -> None:\n",
    "        print(f\"Animal is eating {food}.\")\n",
    "\n",
    "class Bird():\n",
    "    def eating(self, food: str) -> None:\n",
    "        print(f\"Bird is eating {food}.\")\n",
    "\n",
    "animal : Animal = Animal()\n",
    "animal.eating(\"grass\")\n",
    "\n",
    "bird : Bird = Bird()\n",
    "bird.eating(\"bread\")\n",
    "\n",
    "\n",
    "# polymorphism: at run time it will be decided which object method to run\n",
    "bird_1 : Animal = Bird()  # type: ignore\n",
    "bird_1.eating(\"grass\")"
   ]
  },
  {
   "cell_type": "markdown",
   "metadata": {},
   "source": [
    "## Polymorphism\n",
    "* Allows objects of different classes to be treated as objects to a common super class"
   ]
  },
  {
   "cell_type": "code",
   "execution_count": null,
   "metadata": {},
   "outputs": [],
   "source": [
    "class Cat(Animal):\n",
    "    def speak(self) -> str:\n",
    "        return \"Meow\"\n",
    "\n",
    "def animal_sound(animal: Animal) -> str:\n",
    "    return animal.speak()\n",
    "\n",
    "print(animal_sound(Dog()))  # Output: Bark\n",
    "print(animal_sound(Cat()))  # Output: Meow"
   ]
  },
  {
   "cell_type": "markdown",
   "metadata": {},
   "source": [
    "## How every thing is an object in python"
   ]
  },
  {
   "cell_type": "code",
   "execution_count": null,
   "metadata": {},
   "outputs": [],
   "source": [
    "# in python every class inherits from an object \n",
    "# in Human class it is inheriting implicitly\n",
    "# in Human_1 it is inheriting explicitly\n",
    "\n",
    "# Both the classes are equivalent in a sense that both are inheriting from an object class.\n",
    "# Means, \"object\" class is base class in python\n",
    "\n",
    "# in java and c# there are primitive types and object types\n",
    "# But in python every thing is object types; be it a string, integer, dictionary etc.\n",
    "\n",
    "class Human():\n",
    "    def eating(self, food: str) -> None:\n",
    "        print(f\"Human is eating {food}.\")\n",
    "\n",
    "human : Human = Human()\n",
    "human.eating(\"bread\")\n",
    "\n",
    "class Human_1(object):\n",
    "    def eating(self, food) -> None:\n",
    "        print(f\"Human_1 is eating {food}.\")\n",
    "\n",
    "human_1 : Human_1 = Human_1()\n",
    "human_1.eating(\"burger\")\n",
    "\n",
    "# We can check the methods of instances of both of the classes, it will show many inherent methods which are inherited by default (Because as said above, all classes inherit from \"objects\" inherently)"
   ]
  },
  {
   "cell_type": "markdown",
   "metadata": {},
   "source": [
    "## Callable"
   ]
  }
 ],
 "metadata": {
  "kernelspec": {
   "display_name": "python12",
   "language": "python",
   "name": "python3"
  },
  "language_info": {
   "codemirror_mode": {
    "name": "ipython",
    "version": 3
   },
   "file_extension": ".py",
   "mimetype": "text/x-python",
   "name": "python",
   "nbconvert_exporter": "python",
   "pygments_lexer": "ipython3",
   "version": "3.12.0"
  }
 },
 "nbformat": 4,
 "nbformat_minor": 2
}
