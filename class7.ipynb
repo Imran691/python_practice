{
 "cells": [
  {
   "cell_type": "markdown",
   "metadata": {},
   "source": [
    "# Dictionaries\n",
    "    * key : value pairs\n",
    "    * key is replacement of index number in lists"
   ]
  },
  {
   "cell_type": "code",
   "execution_count": null,
   "metadata": {},
   "outputs": [],
   "source": [
    "from typing import Dict, Union\n",
    "import pprint\n",
    "\n",
    "person : dict[str, str] = {\n",
    "    'f_name': 'Ali',\n",
    "    'name' : 'Hasan',\n",
    "    'education': 'MSDS'\n",
    "}\n",
    "\n",
    "pprint.pprint(person)\n",
    "\n",
    "print(person['f_name'])\n",
    "print(person['name'])\n",
    "print(person['education'])\n",
    "\n",
    "person['f_name'] = 'Ali Haider'   # updating value of a key\n",
    "\n",
    "pprint.pprint(person)"
   ]
  },
  {
   "cell_type": "code",
   "execution_count": null,
   "metadata": {},
   "outputs": [],
   "source": [
    "from typing import Dict, Union\n",
    "import pprint\n",
    "\n",
    "# key type should not be set to any, because it can result in unhashable key, e.g. key can not be a list. If we set the value of a key to list it will result in \"unhashable data type error\" as illustrated below\n",
    "# a key can be str or int only\n",
    "\n",
    "Key = Union[str, int]   # custom data type also called alias\n",
    "Value = Union[str, int, list, dict, tuple]\n",
    "\n",
    "person : dict[Key, Value] = {\n",
    "    'f_name': 'Ali',\n",
    "    'name' : 'Hasan',\n",
    "    'education': 'MSDS',\n",
    "    # [1,1,2,3]: 'Ahmad'    # list data type results in error\n",
    "    # (1,1,2): 'Ahmad'      # tuple data type results in error\n",
    "    # {1,1,2}: 'Ahmad'      # set data type results in error\n",
    "}\n",
    "\n",
    "pprint.pprint(person)"
   ]
  },
  {
   "cell_type": "markdown",
   "metadata": {},
   "source": [
    "# Adding data in empty dictionary"
   ]
  },
  {
   "cell_type": "code",
   "execution_count": null,
   "metadata": {},
   "outputs": [],
   "source": [
    "# Assignment operator is used to update the value of a key or add new values in an empty dictionary\n",
    "from typing import Dict, Union\n",
    "import pprint\n",
    "\n",
    "Key = Union[str, int]  \n",
    "Value = Union[str, int, list, dict, tuple]\n",
    "\n",
    "data : dict[Key, Value] = {}\n",
    "\n",
    "data['name'] = 'Ahmad'\n",
    "data['fname'] = 'Ahmad Ali'\n",
    "\n",
    "pprint.pprint(data)"
   ]
  },
  {
   "cell_type": "code",
   "execution_count": null,
   "metadata": {},
   "outputs": [],
   "source": [
    "# If we try to print the value of a key that is not present in a dictionary, it will generate run time error\n",
    "# get() method can be used to print keys, if the key is available, it will print its value, if it is not present it will not generate error\n",
    "\n",
    "from typing import Dict\n",
    "\n",
    "person : dict[str, str] = {\n",
    "    'f_name': 'Ali',\n",
    "    'name' : 'Hasan',\n",
    "    'education': 'MSDS'\n",
    "}\n",
    "\n",
    "# print(person['roll_num'])    # will result in keyError\n",
    "print(person.get('roll_num'))\n"
   ]
  },
  {
   "cell_type": "code",
   "execution_count": null,
   "metadata": {},
   "outputs": [],
   "source": [
    "# keys() method can be used to print list of keys \n",
    "# values() method can be used to print list of values \n",
    "# items() method can be used to print list of tuples consisting of keys and relevant values\n",
    "from typing import Dict\n",
    "\n",
    "person : dict[str, str] = {\n",
    "    'f_name': 'Ali',\n",
    "    'name' : 'Hasan',\n",
    "    'education': 'MSDS'\n",
    "}\n",
    "\n",
    "print(person.keys())\n",
    "print(person.values())\n",
    "print(person.items())"
   ]
  },
  {
   "cell_type": "code",
   "execution_count": 27,
   "metadata": {},
   "outputs": [
    {
     "name": "stdout",
     "output_type": "stream",
     "text": [
      "f_name\n",
      "name\n",
      "education\n"
     ]
    }
   ],
   "source": [
    "# for loop can be used in combination of keys() method to print the values of keys\n",
    "from typing import Dict\n",
    "\n",
    "person : dict[str, str] = {\n",
    "    'f_name': 'Ali',\n",
    "    'name' : 'Hasan',\n",
    "    'education': 'MSDS'\n",
    "}\n",
    "\n",
    "for k in person.keys():\n",
    "    print(k)"
   ]
  },
  {
   "cell_type": "code",
   "execution_count": 28,
   "metadata": {},
   "outputs": [
    {
     "name": "stdout",
     "output_type": "stream",
     "text": [
      "Ali\n",
      "Hasan\n",
      "MSDS\n"
     ]
    }
   ],
   "source": [
    "# for loop can be used in combination of values() method to print the values of values\n",
    "from typing import Dict\n",
    "\n",
    "person : dict[str, str] = {\n",
    "    'f_name': 'Ali',\n",
    "    'name' : 'Hasan',\n",
    "    'education': 'MSDS'\n",
    "}\n",
    "\n",
    "for v in person.values():\n",
    "    print(v)"
   ]
  }
 ],
 "metadata": {
  "kernelspec": {
   "display_name": "python12",
   "language": "python",
   "name": "python3"
  },
  "language_info": {
   "codemirror_mode": {
    "name": "ipython",
    "version": 3
   },
   "file_extension": ".py",
   "mimetype": "text/x-python",
   "name": "python",
   "nbconvert_exporter": "python",
   "pygments_lexer": "ipython3",
   "version": "3.12.0"
  }
 },
 "nbformat": 4,
 "nbformat_minor": 2
}
