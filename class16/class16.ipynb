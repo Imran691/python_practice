{
 "cells": [
  {
   "cell_type": "markdown",
   "metadata": {},
   "source": [
    "# Numpy"
   ]
  },
  {
   "cell_type": "code",
   "execution_count": null,
   "metadata": {},
   "outputs": [],
   "source": [
    "# nptyping package is used define static types in Numpy\n",
    "%pip install nptyping beartype"
   ]
  },
  {
   "cell_type": "markdown",
   "metadata": {},
   "source": [
    "## Scalar Value"
   ]
  },
  {
   "cell_type": "code",
   "execution_count": null,
   "metadata": {},
   "outputs": [],
   "source": [
    "import numpy as np\n",
    "\n",
    "a : np.ndarray = np.array(1000)     # object to store\n",
    "\n",
    "display(f'Display: {a}')\n",
    "display(f'Type of a: {type(a)}')\n",
    "display(f'Shape of a: {a.shape}')               # prints the shape of the object\n",
    "display(f'D-type of a: {a.dtype}')              # prints the dtype of the object\n",
    "display(f'Number of dimensions of a: {a.ndim}') # prints the number of dimensions       # dimension of scalar value is zero\n",
    "display(f'Size of a: {a.size}')                 # prints the size of the object\n",
    "display(f'Item-size of a: {a.itemsize}')        # prints the itemsize of the object"
   ]
  },
  {
   "cell_type": "markdown",
   "metadata": {},
   "source": [
    "## Vector"
   ]
  },
  {
   "cell_type": "code",
   "execution_count": null,
   "metadata": {},
   "outputs": [],
   "source": [
    "import numpy as np\n",
    "\n",
    "a : np.ndarray = np.array([1,2,3,4,5])     # object to store\n",
    "\n",
    "display(f'Display: {a}')\n",
    "display(f'Type of a: {type(a)}')\n",
    "display(f'Shape of a: {a.shape}')               # prints the shape of the object\n",
    "display(f'D-type of a: {a.dtype}')              # prints the dtype of the object\n",
    "display(f'Number of dimensions of a: {a.ndim}') # prints the number of dimensions       # dimension of vector is one\n",
    "display(f'Size of a: {a.size}')                 # prints the size of the object\n",
    "display(f'Item-size of a: {a.itemsize}')        # prints the itemsize of the object"
   ]
  },
  {
   "cell_type": "markdown",
   "metadata": {},
   "source": [
    "## Matrix"
   ]
  },
  {
   "cell_type": "code",
   "execution_count": null,
   "metadata": {},
   "outputs": [],
   "source": [
    "import numpy as np\n",
    "\n",
    "a : np.ndarray = np.array([[0,1,2,3], [4,5,6,7], [8,9,10,11]])     # object to store\n",
    "\n",
    "display(f'Display: {a}')\n",
    "display(f'Type of a: {type(a)}')\n",
    "display(f'Shape of a: {a.shape}')               # prints the shape of the object\n",
    "display(f'D-type of a: {a.dtype}')              # prints the dtype of the object\n",
    "display(f'Number of dimensions of a: {a.ndim}') # prints the number of dimensions       # dimension of matrix is 2\n",
    "display(f'Size of a: {a.size}')                 # prints the size of the object\n",
    "display(f'Item-size of a: {a.itemsize}')        # prints the itemsize of the object"
   ]
  },
  {
   "cell_type": "markdown",
   "metadata": {},
   "source": [
    "# Numpy with NDArray typing support"
   ]
  },
  {
   "cell_type": "code",
   "execution_count": null,
   "metadata": {},
   "outputs": [],
   "source": [
    "from nptyping import NDArray, Shape, UInt64\n",
    "from typing import Any\n",
    "\n",
    "data : NDArray[Shape[\"10\"], Any]  = np.arange(1,10)\n",
    "\n",
    "print(data)\n",
    "print(data + 5) # we can directly perform operations at each value of the Array"
   ]
  },
  {
   "cell_type": "code",
   "execution_count": null,
   "metadata": {},
   "outputs": [],
   "source": [
    "# we can perform above operation on each item of list by using list comprehensive as below\n",
    "d1: list[int] = [1,2,3,4,5,6,7,8,9,10]\n",
    "print(data)\n",
    "\n",
    "[i+5 for i in data]"
   ]
  },
  {
   "cell_type": "markdown",
   "metadata": {},
   "source": [
    "### Time comparason b/w Numpy & list\n",
    "* Numpy takes much less time as compared to lists"
   ]
  },
  {
   "cell_type": "code",
   "execution_count": null,
   "metadata": {},
   "outputs": [],
   "source": [
    "%%time  # to check the time taken to perform operation\n",
    "\n",
    "data : NDArray[Shape[\"10000000\"], Any]  = np.arange(1,10000000)\n",
    "\n",
    "data + 5"
   ]
  },
  {
   "cell_type": "code",
   "execution_count": null,
   "metadata": {},
   "outputs": [],
   "source": [
    "%%time\n",
    "d1 : list[int] = list(range(1, 10000000))\n",
    "\n",
    "[i+5 for i in d1]"
   ]
  },
  {
   "cell_type": "markdown",
   "metadata": {},
   "source": [
    "## Numpy advanced operations vs list operations"
   ]
  },
  {
   "cell_type": "markdown",
   "metadata": {},
   "source": [
    "### Updating sliced items of the data"
   ]
  },
  {
   "cell_type": "code",
   "execution_count": null,
   "metadata": {},
   "outputs": [],
   "source": [
    "d1 : list[int] = list(range(1,21))\n",
    "\n",
    "print(d1)\n",
    "print(d1[5:11])\n",
    "d1[5,11] = 1000     # can't be performed on lists"
   ]
  },
  {
   "cell_type": "code",
   "execution_count": null,
   "metadata": {},
   "outputs": [],
   "source": [
    "from numpy import shape\n",
    "\n",
    "ndata : NDArray[Shape[\"20\"], Any] = np.arange(1,21)\n",
    "\n",
    "print(ndata)\n",
    "print(ndata[5:11])\n",
    "ndata[5:11] = 1000  # will replace values at index 5 to 10 by 1000\n",
    "print(ndata)"
   ]
  },
  {
   "cell_type": "markdown",
   "metadata": {},
   "source": [
    "## Numpy 1-d functions"
   ]
  },
  {
   "cell_type": "markdown",
   "metadata": {},
   "source": [
    "### randint()\n",
    "* Generates random integers, same as Math.random() in JS"
   ]
  },
  {
   "cell_type": "code",
   "execution_count": null,
   "metadata": {},
   "outputs": [],
   "source": [
    "import numpy as np\n",
    "from nptyping import NDArray, Shape\n",
    "from typing import Any\n",
    "\n",
    "state_bank : NDArray[Shape[\"5\"], Any] = np.array([1,3,4,6,8])\n",
    "# randint(), takes three arguments\n",
    "# first two specify the range\n",
    "# third one specifies the number of random integer to be generated\n",
    "ubl_bank : NDArray[Shape[\"20\"], Any] = np.random.randint(1, 100, 20)\n",
    "\n",
    "display(state_bank)\n",
    "display(ubl_bank)"
   ]
  },
  {
   "cell_type": "markdown",
   "metadata": {},
   "source": [
    "### Boolean Slicing\n",
    "* Available only on Numpy, not in lists"
   ]
  },
  {
   "cell_type": "code",
   "execution_count": null,
   "metadata": {},
   "outputs": [],
   "source": [
    "# Boolean slicing\n",
    "# First list contains different values\n",
    "# Second list contains Boolean values (Boolean Array)\n",
    "# If shape & dimensions of both the lists are the same.\n",
    "# And we pass the Boolen list to the first list in []\n",
    "# It will return the values of first list which are corresponding to True\n",
    "\n",
    "from nptyping import Bool\n",
    "\n",
    "d1 : NDArray[Shape[\"5\"], Any] = np.array([1,4,7,9,11])\n",
    "\n",
    "select : NDArray[Shape[\"5\"], Bool] = np.array([True, False, True, False, True])\n",
    "\n",
    "d1[select]"
   ]
  },
  {
   "cell_type": "code",
   "execution_count": null,
   "metadata": {},
   "outputs": [],
   "source": [
    "d1 : NDArray[Shape[\"6\"], Any] = np.array([1,2,3,4,5,6])\n",
    "d1 % 2 == 0 # will return Boolean Array with corresponding True & False values"
   ]
  },
  {
   "cell_type": "code",
   "execution_count": null,
   "metadata": {},
   "outputs": [],
   "source": [
    "d1 : NDArray[Shape[\"6\"], Any] = np.array([1,2,3,4,5,6])\n",
    "d1[d1 % 2 == 0] # Boolean indexing: will return the values whose index is corresponding to True values"
   ]
  },
  {
   "cell_type": "markdown",
   "metadata": {},
   "source": [
    "### np.in1d()\n",
    "* Takes two arguments\n",
    "* First variable will be the list whose values we want to search\n",
    "* Second value will be the list from which we want to search the values of the first list\n",
    "* Returns a list of the same lenth as of First List"
   ]
  },
  {
   "cell_type": "code",
   "execution_count": null,
   "metadata": {},
   "outputs": [],
   "source": [
    "display(state_bank)\n",
    "display(ubl_bank)\n",
    "\n",
    "np.in1d(state_bank, ubl_bank)\n",
    "\n",
    "# will return the list consisting of the elements of first array which are also present in second array (common to both)\n",
    "state_bank[np.in1d(state_bank, ubl_bank)]   "
   ]
  },
  {
   "cell_type": "markdown",
   "metadata": {},
   "source": [
    "### np.intersect1d()\n",
    "* similar to np.in1d()\n",
    "* Returns the intersect values of both the lists"
   ]
  },
  {
   "cell_type": "code",
   "execution_count": null,
   "metadata": {},
   "outputs": [],
   "source": [
    "np.intersect1d(state_bank, ubl_bank)"
   ]
  },
  {
   "cell_type": "markdown",
   "metadata": {},
   "source": [
    "### np.where()\n",
    "* compares the values of two no of lists\n",
    "* returns the desired values from each corresponding index"
   ]
  },
  {
   "cell_type": "code",
   "execution_count": null,
   "metadata": {},
   "outputs": [],
   "source": [
    "x : NDArray[Shape[\"5\"], Any] = np.array([1,5,7,4,9])\n",
    "y : NDArray[Shape[\"5\"], Any] = np.array([7,4,9,2,0])\n",
    "\n",
    "display(x)\n",
    "display(y)\n",
    "\n",
    "np.where(x>y, x,y)  # returns the larger values from corresponding index of each list\n",
    "np.where(x<y, x,y)  # returns the smaller values from corresponding index of each list"
   ]
  },
  {
   "cell_type": "markdown",
   "metadata": {},
   "source": [
    "## Creating Numpy array"
   ]
  },
  {
   "cell_type": "markdown",
   "metadata": {},
   "source": [
    "### np.array()"
   ]
  },
  {
   "cell_type": "code",
   "execution_count": null,
   "metadata": {},
   "outputs": [],
   "source": [
    "# [\"Size, Size\"] means two dimensional array(having rows & columns) with any Size\n",
    "# [\"Size, Size\"] can also be written as [\"*, *\"]\n",
    "# Any: Any data type \n",
    "\n",
    "x : NDArray[Shape[\"Size, Size\"], Any] = np.array([[1,2,3],\n",
    "                                                    [4,5,6]])\n",
    "print(x)\n",
    "\n",
    "x : NDArray[Shape[\"*, *\"], Any] = np.array([[2,3],\n",
    "                                                    [5,6]])\n",
    "print(x)\n",
    "\n",
    "x : NDArray[Shape[\"*, *\"], Any] = np.array([[3],\n",
    "                                                    [4]])\n",
    "print(x)"
   ]
  },
  {
   "cell_type": "markdown",
   "metadata": {},
   "source": [
    "## Creating any dimension array"
   ]
  },
  {
   "cell_type": "code",
   "execution_count": 3,
   "metadata": {},
   "outputs": [
    {
     "name": "stdout",
     "output_type": "stream",
     "text": [
      "[1 2 3 4]\n",
      "[1 2 3 4 5 6 7 8 9]\n"
     ]
    }
   ],
   "source": [
    "# Creating 1-D Array\n",
    "x : NDArray[Shape[\"Size\"], Any] = np.arange(1,5)\n",
    "print(x)\n",
    "\n",
    "x : NDArray[Shape[\"Size\"], Any] = np.arange(1,10)\n",
    "print(x)"
   ]
  },
  {
   "cell_type": "code",
   "execution_count": null,
   "metadata": {},
   "outputs": [],
   "source": [
    "# Creating mutli-D Array\n",
    "\n",
    "# np.arange(2*3) will create 1-D array with 6 elements\n",
    "# reshape(2,3) will created 2-D array with 3 elements each from 1-D array created by np.arange()\n",
    "\n",
    "x : NDArray[Shape[\"Size, Size\"], Any] = np.arange(2*3).reshape(2,3)\n",
    "print(x)"
   ]
  },
  {
   "cell_type": "code",
   "execution_count": null,
   "metadata": {},
   "outputs": [],
   "source": [
    "x : NDArray[Shape[\"Size, Size, Size\"], Any] = np.arange(5*2*2).reshape(5,2,2)\n",
    "print(x)"
   ]
  },
  {
   "cell_type": "markdown",
   "metadata": {},
   "source": [
    "### np.asarray()\n",
    "* same as np.array()"
   ]
  },
  {
   "cell_type": "code",
   "execution_count": null,
   "metadata": {},
   "outputs": [],
   "source": [
    "np.asarray([1,2,3,4,5])"
   ]
  },
  {
   "cell_type": "markdown",
   "metadata": {},
   "source": [
    "### np.zeros()\n",
    "* create an array with all zeros "
   ]
  },
  {
   "cell_type": "code",
   "execution_count": null,
   "metadata": {},
   "outputs": [],
   "source": [
    "np.zeros(10)"
   ]
  },
  {
   "cell_type": "code",
   "execution_count": null,
   "metadata": {},
   "outputs": [],
   "source": [
    "np.zeros((2,2))"
   ]
  },
  {
   "cell_type": "markdown",
   "metadata": {},
   "source": [
    "### np.ones()\n",
    "* creates an array consisting of ones"
   ]
  },
  {
   "cell_type": "code",
   "execution_count": null,
   "metadata": {},
   "outputs": [],
   "source": [
    "np.ones(5)"
   ]
  },
  {
   "cell_type": "code",
   "execution_count": null,
   "metadata": {},
   "outputs": [],
   "source": [
    "np.ones((3,3))"
   ]
  },
  {
   "cell_type": "markdown",
   "metadata": {},
   "source": [
    "### np.ones_like()\n",
    "* creates array consisting all ones, with same dimensions passed as argument"
   ]
  },
  {
   "cell_type": "code",
   "execution_count": null,
   "metadata": {},
   "outputs": [],
   "source": [
    "a : NDArray[Shape[\"Size, Size, Size\"], Any] = np.arange(5*2*2).reshape(5,2,2)\n",
    "\n",
    "np.ones_like(a)"
   ]
  },
  {
   "cell_type": "markdown",
   "metadata": {},
   "source": [
    "### Some functions"
   ]
  },
  {
   "cell_type": "code",
   "execution_count": null,
   "metadata": {},
   "outputs": [],
   "source": [
    "ndata : NDArray[Shape[\"20\"], Any] = np.arange(1,21)\n",
    "\n",
    "print(ndata)\n",
    "print(ndata.min())      # smallest value\n",
    "print(ndata.max())      # largest value\n",
    "print(ndata.argmax())   # largest index number\n",
    "print(ndata.argmin())   # smallest index number\n",
    "print(ndata.mean())     # mean of all the data\n",
    "print(ndata.std())      # standard deviation\n",
    "print(ndata.sum())      # sum\n",
    "print(ndata.cumsum())   # commulaive sum"
   ]
  }
 ],
 "metadata": {
  "kernelspec": {
   "display_name": "python12",
   "language": "python",
   "name": "python3"
  },
  "language_info": {
   "codemirror_mode": {
    "name": "ipython",
    "version": 3
   },
   "file_extension": ".py",
   "mimetype": "text/x-python",
   "name": "python",
   "nbconvert_exporter": "python",
   "pygments_lexer": "ipython3",
   "version": "3.12.0"
  }
 },
 "nbformat": 4,
 "nbformat_minor": 2
}
