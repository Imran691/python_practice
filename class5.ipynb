{
 "cells": [
  {
   "cell_type": "markdown",
   "metadata": {},
   "source": [
    "# For Loop with Lists"
   ]
  },
  {
   "cell_type": "code",
   "execution_count": null,
   "metadata": {},
   "outputs": [],
   "source": [
    "names: list[str] = [\"Ali\", \"Imran\", \"Usama\", \"Alex\"]\n",
    "\n",
    "for name in names:\n",
    "    print(f\"My name is : {name}\")\n",
    "    print(\"What is yours? \\n\")\n",
    "else:                                # in python we can use for-else as well\n",
    "    print(\"Hello World\")"
   ]
  },
  {
   "cell_type": "code",
   "execution_count": 3,
   "metadata": {},
   "outputs": [
    {
     "name": "stdout",
     "output_type": "stream",
     "text": [
      "My name is : Ali\n"
     ]
    }
   ],
   "source": [
    "# in order to iterate selective items from a list slicing can be used \n",
    "\n",
    "names: list[str] = [\"Ali\", \"Imran\", \"Usama\", \"Alex\"]\n",
    "\n",
    "for name in names[0: 1]:\n",
    "    print(f\"My name is : {name}\")\n"
   ]
  },
  {
   "cell_type": "code",
   "execution_count": null,
   "metadata": {},
   "outputs": [],
   "source": [
    "# if we use -1 as step value, loop will start from the last indexed value\n",
    "\n",
    "names: list[str] = [\"Ali\", \"Imran\", \"Usama\", \"Alex\"]\n",
    "\n",
    "for name in names [::-1]:\n",
    "    print(name)"
   ]
  },
  {
   "cell_type": "markdown",
   "metadata": {},
   "source": [
    "## Else\n",
    "* Else specifies the block of code that is to be executed after the loop is finished."
   ]
  },
  {
   "cell_type": "code",
   "execution_count": null,
   "metadata": {},
   "outputs": [],
   "source": [
    "for x in range(5):\n",
    "    print(x)\n",
    "else:\n",
    "    print(\"Finished\")"
   ]
  },
  {
   "cell_type": "code",
   "execution_count": null,
   "metadata": {},
   "outputs": [],
   "source": [
    "for x in range(5):\n",
    "    print(x)\n",
    "    break\n",
    "else:\n",
    "    print(\"Finished\")"
   ]
  },
  {
   "cell_type": "code",
   "execution_count": null,
   "metadata": {},
   "outputs": [],
   "source": [
    "names:list[str] = ['Sir Zia', \"Muhammad Qasim\", \"DR Noman\"]\n",
    "\n",
    "for name in names:\n",
    "    print(name)\n",
    "else:\n",
    "    print(\"Hello world\")"
   ]
  },
  {
   "cell_type": "code",
   "execution_count": null,
   "metadata": {},
   "outputs": [],
   "source": [
    "names:list[str] = ['Sir Zia', \"Muhammad Qasim\", \"DR Noman\"]\n",
    "\n",
    "for name in names:\n",
    "    print(name)\n",
    "    break\n",
    "else:\n",
    "    print(\"Hello world\")"
   ]
  },
  {
   "cell_type": "code",
   "execution_count": null,
   "metadata": {},
   "outputs": [],
   "source": [
    "names:list[str] = ['Sir Zia', \"Muhammad Qasim\", \"DR Noman\"]\n",
    "\n",
    "for name in names:\n",
    "    print(name)\n",
    "print(\"Hello world\")"
   ]
  },
  {
   "cell_type": "code",
   "execution_count": null,
   "metadata": {},
   "outputs": [],
   "source": [
    "names:list[str] = ['Sir Zia', \"Muhammad Qasim\", \"DR Noman\"]\n",
    "\n",
    "for name in names:\n",
    "    print(name)\n",
    "    break\n",
    "    \n",
    "print(\"Hello world\")"
   ]
  },
  {
   "cell_type": "code",
   "execution_count": null,
   "metadata": {},
   "outputs": [],
   "source": [
    "names:list[str] = ['Sir Zia', \"Muhammad Qasim\", \"DR Noman\"]\n",
    "\n",
    "for name in names:\n",
    "print(name)"
   ]
  },
  {
   "cell_type": "code",
   "execution_count": null,
   "metadata": {},
   "outputs": [],
   "source": [
    "message = \"Hello Python world!\" \n",
    "    print(message)"
   ]
  },
  {
   "cell_type": "markdown",
   "metadata": {},
   "source": [
    "## Numbers with loop\n",
    "* range(start, end, step)"
   ]
  },
  {
   "cell_type": "code",
   "execution_count": null,
   "metadata": {},
   "outputs": [],
   "source": [
    "for n in range(0, 10):  # start = 0, end = n-1\n",
    "    print(n)"
   ]
  },
  {
   "cell_type": "code",
   "execution_count": null,
   "metadata": {},
   "outputs": [],
   "source": [
    "for n in range(10): # start = 0, end = n-1\n",
    "    print(n)"
   ]
  },
  {
   "cell_type": "code",
   "execution_count": null,
   "metadata": {},
   "outputs": [],
   "source": [
    "for n in range(0, 10, 2):   #start = 0, end = n-1, step = 2\n",
    "    print(n)"
   ]
  },
  {
   "cell_type": "code",
   "execution_count": null,
   "metadata": {},
   "outputs": [],
   "source": [
    "for n in range(0, 11):\n",
    "    print(f\"{2} X {n} = {2 *n}\")"
   ]
  },
  {
   "cell_type": "code",
   "execution_count": null,
   "metadata": {},
   "outputs": [],
   "source": [
    "squares:list[int] = []\n",
    "for value in range(1, 11):\n",
    "    square = value ** 2\n",
    "    squares.append(square)\n",
    "print(squares)"
   ]
  },
  {
   "cell_type": "markdown",
   "metadata": {},
   "source": [
    "## List comprehensive\n",
    "* Offers shorter syntax when we want to create a new list out of items of an existing list\n",
    "\n",
    "* [loop_body for item in items_list]"
   ]
  },
  {
   "cell_type": "code",
   "execution_count": null,
   "metadata": {},
   "outputs": [],
   "source": [
    "fruits = [\"apple\", \"banana\", \"cherry\", \"kiwi\", \"mango\"]\n",
    "\n",
    "new_list = [x for x in fruits if \"a\" in x]\n",
    "print(new_list)"
   ]
  },
  {
   "cell_type": "code",
   "execution_count": null,
   "metadata": {},
   "outputs": [],
   "source": [
    "[i**2 for i in range(1,11)]"
   ]
  },
  {
   "cell_type": "markdown",
   "metadata": {},
   "source": [
    "## Tuples\n",
    "* A collection which is ordered and unchangeable. Tuples are written in round brackets."
   ]
  },
  {
   "cell_type": "code",
   "execution_count": null,
   "metadata": {},
   "outputs": [],
   "source": [
    "my_tuple = (1, 2, 3, 4, 5)\n",
    "print(my_tuple)"
   ]
  },
  {
   "cell_type": "code",
   "execution_count": null,
   "metadata": {},
   "outputs": [],
   "source": [
    "names:tuple[str] = ('A',\"B\",'C') # type: ignore\n",
    "print(names[0])\n",
    "print(names[0:2])"
   ]
  },
  {
   "cell_type": "code",
   "execution_count": null,
   "metadata": {},
   "outputs": [],
   "source": [
    "names:tuple[str] = ('A',\"B\",'C')\n",
    "\n",
    "names[0] = \"Pakistan\"   # 'tuple' object does not support item assignment"
   ]
  },
  {
   "cell_type": "code",
   "execution_count": null,
   "metadata": {},
   "outputs": [],
   "source": [
    "from typing import Any\n",
    "data : tuple[Any] = (\"A\",[1,2,3], True)\n",
    "\n",
    "print(data)"
   ]
  },
  {
   "cell_type": "code",
   "execution_count": null,
   "metadata": {},
   "outputs": [],
   "source": [
    "a  = input(\"abc\") # return string type\n",
    "print(type(a))\n",
    "print(a)"
   ]
  },
  {
   "cell_type": "code",
   "execution_count": null,
   "metadata": {},
   "outputs": [],
   "source": [
    "sorted([7,8,1,3])"
   ]
  },
  {
   "cell_type": "code",
   "execution_count": null,
   "metadata": {},
   "outputs": [],
   "source": [
    "data : tuple[Any] = (\"A\",[1,2,3], True)\n",
    "\n",
    "print(data[1])\n",
    "data[1].append(20)\n",
    "print(data)"
   ]
  },
  {
   "cell_type": "code",
   "execution_count": null,
   "metadata": {},
   "outputs": [],
   "source": [
    "names:tuple[str] = ('A',\"B\",'C')\n",
    "\n",
    "names:tuple[str] = ('Pakistan',\"B\",'C')\n",
    "\n",
    "print(names)"
   ]
  },
  {
   "cell_type": "code",
   "execution_count": null,
   "metadata": {},
   "outputs": [],
   "source": [
    "data_base : list[tuple[str,str]] = [(\"qasim\",'123'),\n",
    "                                    (\"sirzia\",'345'),\n",
    "                                    ('ikhlas','789')\n",
    "                                    ]\n",
    "\n",
    "for row in data_base:\n",
    "    print(row)"
   ]
  },
  {
   "cell_type": "code",
   "execution_count": null,
   "metadata": {},
   "outputs": [],
   "source": [
    "data_base : list[tuple[str,str]] = [(\"qasim\",'123'),\n",
    "                                    (\"sirzia\",'345'),\n",
    "                                    ('ikhlas','789')\n",
    "                                    ]\n",
    "\n",
    "for row in data_base:\n",
    "    user, password = row\n",
    "    print(user, password)"
   ]
  },
  {
   "cell_type": "code",
   "execution_count": null,
   "metadata": {},
   "outputs": [],
   "source": [
    "input_user : str = input(\"Enter user name\")\n",
    "print(input_user)"
   ]
  },
  {
   "cell_type": "code",
   "execution_count": null,
   "metadata": {},
   "outputs": [],
   "source": [
    "data_base : list[tuple[str,str]] = [(\"qasim\",'123'),\n",
    "                                    (\"sirzia\",'345'),\n",
    "                                    ('ikhlas','789')\n",
    "                                    ]\n",
    "input_user : str = input(\"Enter user name\")\n",
    "input_password : str = input(\"Enter user password\")\n",
    "\n",
    "\n",
    "\n",
    "for row in data_base:\n",
    "    user, password = row\n",
    "    if input_user == user and input_password == password:\n",
    "        print(f\"Valid User {user}\")\n",
    "        break\n",
    "else:\n",
    "    print(\"Not found or Invalid user name\")\n",
    "    "
   ]
  },
  {
   "cell_type": "markdown",
   "metadata": {},
   "source": [
    "## Commonly used list methods\n",
    "* append(): Adds an element at the end of the list\n",
    "* extend(): Add the elements of a list (or any iterable), to the end of the current list\n",
    "* remove(): Removes the first item with the specified value"
   ]
  },
  {
   "cell_type": "markdown",
   "metadata": {},
   "source": [
    "## Commonly used Tuple methods\n",
    "* count(): Returns the number of times a specified value occurs in a tuple\n",
    "* index(): Searches the tuple for a specified value and returns the position of where it was found"
   ]
  }
 ],
 "metadata": {
  "kernelspec": {
   "display_name": "python12",
   "language": "python",
   "name": "python3"
  },
  "language_info": {
   "codemirror_mode": {
    "name": "ipython",
    "version": 3
   },
   "file_extension": ".py",
   "mimetype": "text/x-python",
   "name": "python",
   "nbconvert_exporter": "python",
   "pygments_lexer": "ipython3",
   "version": "3.12.0"
  }
 },
 "nbformat": 4,
 "nbformat_minor": 2
}
