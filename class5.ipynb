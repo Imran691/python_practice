{
 "cells": [
  {
   "cell_type": "markdown",
   "metadata": {},
   "source": [
    "# For Loop with Lists"
   ]
  },
  {
   "cell_type": "code",
   "execution_count": 10,
   "metadata": {},
   "outputs": [
    {
     "name": "stdout",
     "output_type": "stream",
     "text": [
      "My name is : Ali\n",
      "What is yours? \n",
      "\n",
      "My name is : Imran\n",
      "What is yours? \n",
      "\n",
      "My name is : Usama\n",
      "What is yours? \n",
      "\n",
      "My name is : Alex\n",
      "What is yours? \n",
      "\n",
      "Hello World\n"
     ]
    }
   ],
   "source": [
    "names: list[str] = [\"Ali\", \"Imran\", \"Usama\", \"Alex\"]\n",
    "\n",
    "for name in names:\n",
    "    print(f\"My name is : {name}\")\n",
    "    print(\"What is yours? \\n\")\n",
    "else:                                # in python we can use for-else as well\n",
    "    print(\"Hello World\")\n",
    "\n",
    "# in order to iterate selective items from a list slicing can be used \n",
    "\n",
    "# for name in names[0: 3]:\n",
    "#     print(f\"My name is : {name}\")\n"
   ]
  }
 ],
 "metadata": {
  "kernelspec": {
   "display_name": "python12",
   "language": "python",
   "name": "python3"
  },
  "language_info": {
   "codemirror_mode": {
    "name": "ipython",
    "version": 3
   },
   "file_extension": ".py",
   "mimetype": "text/x-python",
   "name": "python",
   "nbconvert_exporter": "python",
   "pygments_lexer": "ipython3",
   "version": "3.12.0"
  }
 },
 "nbformat": 4,
 "nbformat_minor": 2
}
